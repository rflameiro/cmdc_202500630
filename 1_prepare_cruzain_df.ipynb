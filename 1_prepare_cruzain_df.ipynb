{
 "cells": [
  {
   "cell_type": "markdown",
   "metadata": {
    "id": "LUa32uMMs7v3"
   },
   "source": [
    "## Enzyme code\n",
    "\n",
    "To import datasets and export final dataset and training set fingerprints for applicability domain calculation"
   ]
  },
  {
   "cell_type": "code",
   "execution_count": 1,
   "metadata": {
    "executionInfo": {
     "elapsed": 277,
     "status": "ok",
     "timestamp": 1697242746139,
     "user": {
      "displayName": "Rafael L",
      "userId": "04467047833305667620"
     },
     "user_tz": 180
    },
    "id": "2Siy-Xoms3cM"
   },
   "outputs": [],
   "source": [
    "# Enzyme code\n",
    "enz = 'cruz'"
   ]
  },
  {
   "cell_type": "markdown",
   "metadata": {
    "id": "E5xEJnjjca80"
   },
   "source": [
    "## Install and import"
   ]
  },
  {
   "cell_type": "code",
   "execution_count": 2,
   "metadata": {
    "executionInfo": {
     "elapsed": 13755,
     "status": "ok",
     "timestamp": 1697242761689,
     "user": {
      "displayName": "Rafael L",
      "userId": "04467047833305667620"
     },
     "user_tz": 180
    },
    "id": "662mfWwuuciQ"
   },
   "outputs": [],
   "source": [
    "# %%capture\n",
    "# !pip install chembl_structure_pipeline rdkit"
   ]
  },
  {
   "cell_type": "code",
   "execution_count": 3,
   "metadata": {
    "colab": {
     "base_uri": "https://localhost:8080/"
    },
    "executionInfo": {
     "elapsed": 421,
     "status": "ok",
     "timestamp": 1697242762097,
     "user": {
      "displayName": "Rafael L",
      "userId": "04467047833305667620"
     },
     "user_tz": 180
    },
    "id": "Atxo3vRKyCCy",
    "outputId": "13db820f-ce44-413b-8982-1b9155460c3c"
   },
   "outputs": [
    {
     "name": "stderr",
     "output_type": "stream",
     "text": [
      "[11:00:34] Initializing Normalizer\n"
     ]
    }
   ],
   "source": [
    "# Use this to import standardizing functions\n",
    "import sys\n",
    "\n",
    "from standardize import new_standardize_smiles, non_organic"
   ]
  },
  {
   "cell_type": "code",
   "execution_count": 8,
   "metadata": {},
   "outputs": [
    {
     "data": {
      "text/plain": [
       "'2023.03.2'"
      ]
     },
     "execution_count": 8,
     "metadata": {},
     "output_type": "execute_result"
    }
   ],
   "source": [
    "import rdkit\n",
    "\n",
    "rdkit.__version__"
   ]
  },
  {
   "cell_type": "code",
   "execution_count": 4,
   "metadata": {
    "executionInfo": {
     "elapsed": 11,
     "status": "ok",
     "timestamp": 1697242762098,
     "user": {
      "displayName": "Rafael L",
      "userId": "04467047833305667620"
     },
     "user_tz": 180
    },
    "id": "Ebha0LLKyPH0"
   },
   "outputs": [],
   "source": [
    "import numpy as np\n",
    "import pandas as pd\n",
    "from rdkit import Chem"
   ]
  },
  {
   "cell_type": "code",
   "execution_count": 5,
   "metadata": {
    "executionInfo": {
     "elapsed": 354,
     "status": "ok",
     "timestamp": 1697242762442,
     "user": {
      "displayName": "Rafael L",
      "userId": "04467047833305667620"
     },
     "user_tz": 180
    },
    "id": "4oEu8iIejpJf"
   },
   "outputs": [],
   "source": [
    "# Make histogram\n",
    "import matplotlib.pyplot as plt\n",
    "import numpy as np\n",
    "\n",
    "def histogram_pAct(series):\n",
    "    # Extract the values from the 'pAct' column\n",
    "    data = series.values\n",
    "\n",
    "    # Create the histogram\n",
    "    plt.hist(data, bins=list(range(3,12)), edgecolor='black', color='navy', alpha=0.7)\n",
    "    plt.xlabel('pActivity Values')\n",
    "    plt.ylabel('Frequency')\n",
    "    plt.grid(False)\n",
    "\n",
    "    # Calculate average, median, and standard deviation\n",
    "    average = np.mean(data)\n",
    "    median = np.median(data)\n",
    "    std_dev = np.std(data)\n",
    "\n",
    "    # Add text to the plot to show average, median, and standard deviation\n",
    "    plt.text(0.62, 0.9, f'Average: {average:.2f}', transform=plt.gca().transAxes)\n",
    "    plt.text(0.62, 0.85, f'Median: {median:.2f}', transform=plt.gca().transAxes)\n",
    "    plt.text(0.62, 0.8, f'Standard Deviation: {std_dev:.2f}', transform=plt.gca().transAxes)\n",
    "\n",
    "    # Show the plot\n",
    "    plt.show()"
   ]
  },
  {
   "cell_type": "code",
   "execution_count": 6,
   "metadata": {
    "colab": {
     "base_uri": "https://localhost:8080/"
    },
    "executionInfo": {
     "elapsed": 972,
     "status": "ok",
     "timestamp": 1697242763406,
     "user": {
      "displayName": "Rafael L",
      "userId": "04467047833305667620"
     },
     "user_tz": 180
    },
    "id": "AGZ6oO5eyNEj",
    "outputId": "735b1469-3a70-48f3-f307-59b194beb0b3"
   },
   "outputs": [
    {
     "name": "stderr",
     "output_type": "stream",
     "text": [
      "C:\\Users\\rafae\\AppData\\Local\\Temp\\ipykernel_4560\\2570414818.py:2: DtypeWarning: Columns (3) have mixed types. Specify dtype option on import or set low_memory=False.\n",
      "  df_chembl = pd.read_csv(f\"{enz}_chembl.csv\", sep=';')\n"
     ]
    }
   ],
   "source": [
    "# Import datasets\n",
    "df_chembl = pd.read_csv(f\"{enz}_chembl.csv\", sep=';')\n",
    "df_bindingdb = pd.read_csv(f\"{enz}_bindingdb.tsv\", sep='\\t')"
   ]
  },
  {
   "cell_type": "code",
   "execution_count": 7,
   "metadata": {
    "colab": {
     "base_uri": "https://localhost:8080/",
     "height": 377
    },
    "executionInfo": {
     "elapsed": 597,
     "status": "ok",
     "timestamp": 1697242763996,
     "user": {
      "displayName": "Rafael L",
      "userId": "04467047833305667620"
     },
     "user_tz": 180
    },
    "id": "h8iA-i6yypiJ",
    "outputId": "41b96d90-86c0-4e4b-eaaa-8606db83d11e"
   },
   "outputs": [
    {
     "data": {
      "text/html": [
       "<div>\n",
       "<style scoped>\n",
       "    .dataframe tbody tr th:only-of-type {\n",
       "        vertical-align: middle;\n",
       "    }\n",
       "\n",
       "    .dataframe tbody tr th {\n",
       "        vertical-align: top;\n",
       "    }\n",
       "\n",
       "    .dataframe thead th {\n",
       "        text-align: right;\n",
       "    }\n",
       "</style>\n",
       "<table border=\"1\" class=\"dataframe\">\n",
       "  <thead>\n",
       "    <tr style=\"text-align: right;\">\n",
       "      <th></th>\n",
       "      <th>Molecule ChEMBL ID</th>\n",
       "      <th>Molecule Name</th>\n",
       "      <th>Molecule Max Phase</th>\n",
       "      <th>Molecular Weight</th>\n",
       "      <th>#RO5 Violations</th>\n",
       "      <th>AlogP</th>\n",
       "      <th>Compound Key</th>\n",
       "      <th>Smiles</th>\n",
       "      <th>Standard Type</th>\n",
       "      <th>Standard Relation</th>\n",
       "      <th>...</th>\n",
       "      <th>Target Organism</th>\n",
       "      <th>Target Type</th>\n",
       "      <th>Document ChEMBL ID</th>\n",
       "      <th>Source ID</th>\n",
       "      <th>Source Description</th>\n",
       "      <th>Document Journal</th>\n",
       "      <th>Document Year</th>\n",
       "      <th>Cell ChEMBL ID</th>\n",
       "      <th>Properties</th>\n",
       "      <th>Action Type</th>\n",
       "    </tr>\n",
       "  </thead>\n",
       "  <tbody>\n",
       "    <tr>\n",
       "      <th>0</th>\n",
       "      <td>CHEMBL603089</td>\n",
       "      <td>NaN</td>\n",
       "      <td>None</td>\n",
       "      <td>557.59</td>\n",
       "      <td>2</td>\n",
       "      <td>6.03</td>\n",
       "      <td>3e</td>\n",
       "      <td>CCC(C(=O)COc1c(F)c(F)cc(F)c1F)n1cc([C@](C)(CC(...</td>\n",
       "      <td>Ratio</td>\n",
       "      <td>'='</td>\n",
       "      <td>...</td>\n",
       "      <td>Trypanosoma cruzi</td>\n",
       "      <td>SINGLE PROTEIN</td>\n",
       "      <td>CHEMBL1156871</td>\n",
       "      <td>1</td>\n",
       "      <td>Scientific Literature</td>\n",
       "      <td>J Med Chem</td>\n",
       "      <td>2010.0</td>\n",
       "      <td>None</td>\n",
       "      <td>NaN</td>\n",
       "      <td>NaN</td>\n",
       "    </tr>\n",
       "    <tr>\n",
       "      <th>1</th>\n",
       "      <td>CHEMBL579303</td>\n",
       "      <td>NaN</td>\n",
       "      <td>None</td>\n",
       "      <td>583.63</td>\n",
       "      <td>2</td>\n",
       "      <td>6.57</td>\n",
       "      <td>3f</td>\n",
       "      <td>CCCCC(C(=O)COc1c(F)c(F)cc(F)c1F)n1cc([C@@](C)(...</td>\n",
       "      <td>Ratio</td>\n",
       "      <td>'='</td>\n",
       "      <td>...</td>\n",
       "      <td>Trypanosoma cruzi</td>\n",
       "      <td>SINGLE PROTEIN</td>\n",
       "      <td>CHEMBL1156871</td>\n",
       "      <td>1</td>\n",
       "      <td>Scientific Literature</td>\n",
       "      <td>J Med Chem</td>\n",
       "      <td>2010.0</td>\n",
       "      <td>None</td>\n",
       "      <td>NaN</td>\n",
       "      <td>NaN</td>\n",
       "    </tr>\n",
       "    <tr>\n",
       "      <th>2</th>\n",
       "      <td>CHEMBL592646</td>\n",
       "      <td>NaN</td>\n",
       "      <td>None</td>\n",
       "      <td>597.66</td>\n",
       "      <td>2</td>\n",
       "      <td>6.96</td>\n",
       "      <td>3h</td>\n",
       "      <td>CCCCC(C(=O)COc1c(F)c(F)cc(F)c1F)n1cc([C@@](C)(...</td>\n",
       "      <td>Ratio</td>\n",
       "      <td>'='</td>\n",
       "      <td>...</td>\n",
       "      <td>Trypanosoma cruzi</td>\n",
       "      <td>SINGLE PROTEIN</td>\n",
       "      <td>CHEMBL1156871</td>\n",
       "      <td>1</td>\n",
       "      <td>Scientific Literature</td>\n",
       "      <td>J Med Chem</td>\n",
       "      <td>2010.0</td>\n",
       "      <td>None</td>\n",
       "      <td>NaN</td>\n",
       "      <td>NaN</td>\n",
       "    </tr>\n",
       "    <tr>\n",
       "      <th>3</th>\n",
       "      <td>CHEMBL592403</td>\n",
       "      <td>NaN</td>\n",
       "      <td>None</td>\n",
       "      <td>569.60</td>\n",
       "      <td>2</td>\n",
       "      <td>6.18</td>\n",
       "      <td>3c</td>\n",
       "      <td>CCCCC(C(=O)COc1c(F)c(F)cc(F)c1F)n1cc([C@@](C)(...</td>\n",
       "      <td>Ki</td>\n",
       "      <td>'='</td>\n",
       "      <td>...</td>\n",
       "      <td>Trypanosoma cruzi</td>\n",
       "      <td>SINGLE PROTEIN</td>\n",
       "      <td>CHEMBL1156871</td>\n",
       "      <td>1</td>\n",
       "      <td>Scientific Literature</td>\n",
       "      <td>J Med Chem</td>\n",
       "      <td>2010.0</td>\n",
       "      <td>None</td>\n",
       "      <td>NaN</td>\n",
       "      <td>NaN</td>\n",
       "    </tr>\n",
       "    <tr>\n",
       "      <th>4</th>\n",
       "      <td>CHEMBL566068</td>\n",
       "      <td>NaN</td>\n",
       "      <td>None</td>\n",
       "      <td>229.07</td>\n",
       "      <td>0</td>\n",
       "      <td>3.09</td>\n",
       "      <td>43</td>\n",
       "      <td>Oc1cc(-c2ccc(Cl)c(Cl)c2)[nH]n1</td>\n",
       "      <td>IC50</td>\n",
       "      <td>'='</td>\n",
       "      <td>...</td>\n",
       "      <td>Trypanosoma cruzi</td>\n",
       "      <td>SINGLE PROTEIN</td>\n",
       "      <td>CHEMBL1156758</td>\n",
       "      <td>1</td>\n",
       "      <td>Scientific Literature</td>\n",
       "      <td>J Med Chem</td>\n",
       "      <td>2010.0</td>\n",
       "      <td>None</td>\n",
       "      <td>NaN</td>\n",
       "      <td>NaN</td>\n",
       "    </tr>\n",
       "  </tbody>\n",
       "</table>\n",
       "<p>5 rows × 46 columns</p>\n",
       "</div>"
      ],
      "text/plain": [
       "  Molecule ChEMBL ID Molecule Name Molecule Max Phase Molecular Weight  \\\n",
       "0       CHEMBL603089           NaN               None           557.59   \n",
       "1       CHEMBL579303           NaN               None           583.63   \n",
       "2       CHEMBL592646           NaN               None           597.66   \n",
       "3       CHEMBL592403           NaN               None           569.60   \n",
       "4       CHEMBL566068           NaN               None           229.07   \n",
       "\n",
       "  #RO5 Violations AlogP Compound Key  \\\n",
       "0               2  6.03           3e   \n",
       "1               2  6.57           3f   \n",
       "2               2  6.96           3h   \n",
       "3               2  6.18           3c   \n",
       "4               0  3.09           43   \n",
       "\n",
       "                                              Smiles Standard Type  \\\n",
       "0  CCC(C(=O)COc1c(F)c(F)cc(F)c1F)n1cc([C@](C)(CC(...         Ratio   \n",
       "1  CCCCC(C(=O)COc1c(F)c(F)cc(F)c1F)n1cc([C@@](C)(...         Ratio   \n",
       "2  CCCCC(C(=O)COc1c(F)c(F)cc(F)c1F)n1cc([C@@](C)(...         Ratio   \n",
       "3  CCCCC(C(=O)COc1c(F)c(F)cc(F)c1F)n1cc([C@@](C)(...            Ki   \n",
       "4                     Oc1cc(-c2ccc(Cl)c(Cl)c2)[nH]n1          IC50   \n",
       "\n",
       "  Standard Relation  ...    Target Organism     Target Type  \\\n",
       "0               '='  ...  Trypanosoma cruzi  SINGLE PROTEIN   \n",
       "1               '='  ...  Trypanosoma cruzi  SINGLE PROTEIN   \n",
       "2               '='  ...  Trypanosoma cruzi  SINGLE PROTEIN   \n",
       "3               '='  ...  Trypanosoma cruzi  SINGLE PROTEIN   \n",
       "4               '='  ...  Trypanosoma cruzi  SINGLE PROTEIN   \n",
       "\n",
       "   Document ChEMBL ID Source ID     Source Description Document Journal  \\\n",
       "0       CHEMBL1156871         1  Scientific Literature       J Med Chem   \n",
       "1       CHEMBL1156871         1  Scientific Literature       J Med Chem   \n",
       "2       CHEMBL1156871         1  Scientific Literature       J Med Chem   \n",
       "3       CHEMBL1156871         1  Scientific Literature       J Med Chem   \n",
       "4       CHEMBL1156758         1  Scientific Literature       J Med Chem   \n",
       "\n",
       "   Document Year Cell ChEMBL ID Properties Action Type  \n",
       "0         2010.0           None        NaN         NaN  \n",
       "1         2010.0           None        NaN         NaN  \n",
       "2         2010.0           None        NaN         NaN  \n",
       "3         2010.0           None        NaN         NaN  \n",
       "4         2010.0           None        NaN         NaN  \n",
       "\n",
       "[5 rows x 46 columns]"
      ]
     },
     "execution_count": 7,
     "metadata": {},
     "output_type": "execute_result"
    }
   ],
   "source": [
    "df_chembl.head()"
   ]
  },
  {
   "cell_type": "code",
   "execution_count": 8,
   "metadata": {
    "colab": {
     "base_uri": "https://localhost:8080/",
     "height": 515
    },
    "executionInfo": {
     "elapsed": 11,
     "status": "ok",
     "timestamp": 1697242763997,
     "user": {
      "displayName": "Rafael L",
      "userId": "04467047833305667620"
     },
     "user_tz": 180
    },
    "id": "YeKXrAEoyp3J",
    "outputId": "ea2c50f9-4bf5-404d-cf69-7bbec0a56eb8"
   },
   "outputs": [
    {
     "data": {
      "text/html": [
       "<div>\n",
       "<style scoped>\n",
       "    .dataframe tbody tr th:only-of-type {\n",
       "        vertical-align: middle;\n",
       "    }\n",
       "\n",
       "    .dataframe tbody tr th {\n",
       "        vertical-align: top;\n",
       "    }\n",
       "\n",
       "    .dataframe thead th {\n",
       "        text-align: right;\n",
       "    }\n",
       "</style>\n",
       "<table border=\"1\" class=\"dataframe\">\n",
       "  <thead>\n",
       "    <tr style=\"text-align: right;\">\n",
       "      <th></th>\n",
       "      <th>BindingDB Reactant_set_id</th>\n",
       "      <th>Ligand SMILES</th>\n",
       "      <th>Ligand InChI</th>\n",
       "      <th>Ligand InChI Key</th>\n",
       "      <th>BindingDB MonomerID</th>\n",
       "      <th>BindingDB Ligand Name</th>\n",
       "      <th>Target Name</th>\n",
       "      <th>Target Source Organism According to Curator or DataSource</th>\n",
       "      <th>Ki (nM)</th>\n",
       "      <th>IC50 (nM)</th>\n",
       "      <th>...</th>\n",
       "      <th>UniProt (SwissProt) Recommended Name of Target Chain</th>\n",
       "      <th>UniProt (SwissProt) Entry Name of Target Chain</th>\n",
       "      <th>UniProt (SwissProt) Primary ID of Target Chain</th>\n",
       "      <th>UniProt (SwissProt) Secondary ID(s) of Target Chain</th>\n",
       "      <th>UniProt (SwissProt) Alternative ID(s) of Target Chain</th>\n",
       "      <th>UniProt (TrEMBL) Submitted Name of Target Chain</th>\n",
       "      <th>UniProt (TrEMBL) Entry Name of Target Chain</th>\n",
       "      <th>UniProt (TrEMBL) Primary ID of Target Chain</th>\n",
       "      <th>UniProt (TrEMBL) Secondary ID(s) of Target Chain</th>\n",
       "      <th>UniProt (TrEMBL) Alternative ID(s) of Target Chain</th>\n",
       "    </tr>\n",
       "  </thead>\n",
       "  <tbody>\n",
       "    <tr>\n",
       "      <th>0</th>\n",
       "      <td>51439312</td>\n",
       "      <td>CN1CCN(CC1)C(=O)N[C@@H](Cc1ccccc1)C(=O)N[C@@H]...</td>\n",
       "      <td>InChI=1S/C32H38N4O4S/c1-35-20-22-36(23-21-35)3...</td>\n",
       "      <td>RHJLQMVZXQKJKB-JDXGNMNLSA-N</td>\n",
       "      <td>50229129</td>\n",
       "      <td>4-Methyl-piperazine-1-carboxylic acid [(S)-1-(...</td>\n",
       "      <td>Cruzipain</td>\n",
       "      <td>Trypanosoma cruzi</td>\n",
       "      <td>0.200000</td>\n",
       "      <td>NaN</td>\n",
       "      <td>...</td>\n",
       "      <td>Cruzipain</td>\n",
       "      <td>CYSP_TRYCR</td>\n",
       "      <td>P25779</td>\n",
       "      <td>NaN</td>\n",
       "      <td>NaN</td>\n",
       "      <td>NaN</td>\n",
       "      <td>NaN</td>\n",
       "      <td>NaN</td>\n",
       "      <td>NaN</td>\n",
       "      <td>NaN</td>\n",
       "    </tr>\n",
       "    <tr>\n",
       "      <th>1</th>\n",
       "      <td>51439295</td>\n",
       "      <td>O=C[C@H](Cc1ccccc1)NC(=O)[C@H](Cc1ccccc1)NC(=O...</td>\n",
       "      <td>InChI=1S/C26H26N2O4/c29-18-23(16-20-10-4-1-5-1...</td>\n",
       "      <td>OIKITZBTDSAJQH-ZEQRLZLVSA-N</td>\n",
       "      <td>50286450</td>\n",
       "      <td>CHEMBL128135::[(S)-1-((S)-1-Benzyl-2-oxo-ethyl...</td>\n",
       "      <td>Cruzipain</td>\n",
       "      <td>Trypanosoma cruzi</td>\n",
       "      <td>0.440000</td>\n",
       "      <td>NaN</td>\n",
       "      <td>...</td>\n",
       "      <td>Cruzipain</td>\n",
       "      <td>CYSP_TRYCR</td>\n",
       "      <td>P25779</td>\n",
       "      <td>NaN</td>\n",
       "      <td>NaN</td>\n",
       "      <td>NaN</td>\n",
       "      <td>NaN</td>\n",
       "      <td>NaN</td>\n",
       "      <td>NaN</td>\n",
       "      <td>NaN</td>\n",
       "    </tr>\n",
       "    <tr>\n",
       "      <th>2</th>\n",
       "      <td>50527569</td>\n",
       "      <td>C[C@H](NC(=O)[C@H](Cc1ccccc1)NC(=O)OCc1ccccc1)...</td>\n",
       "      <td>InChI=1S/C21H23N3O5/c1-16(12-13-24(27)28)22-20...</td>\n",
       "      <td>HNMPKMOYOSYDNW-BIZPYBIZSA-N</td>\n",
       "      <td>50201259</td>\n",
       "      <td>CHEMBL3907022</td>\n",
       "      <td>Cruzipain</td>\n",
       "      <td>Trypanosoma cruzi</td>\n",
       "      <td>0.440000</td>\n",
       "      <td>NaN</td>\n",
       "      <td>...</td>\n",
       "      <td>Cruzipain</td>\n",
       "      <td>CYSP_TRYCR</td>\n",
       "      <td>P25779</td>\n",
       "      <td>NaN</td>\n",
       "      <td>NaN</td>\n",
       "      <td>NaN</td>\n",
       "      <td>NaN</td>\n",
       "      <td>NaN</td>\n",
       "      <td>NaN</td>\n",
       "      <td>NaN</td>\n",
       "    </tr>\n",
       "    <tr>\n",
       "      <th>3</th>\n",
       "      <td>51439305</td>\n",
       "      <td>CN1CCN(CC1)C(=O)N[C@@H](Cc1ccccc1)C(=O)N[C@@H]...</td>\n",
       "      <td>InChI=1S/C25H32N4O3/c1-28-14-16-29(17-15-28)25...</td>\n",
       "      <td>BUMLVPVZNAMULE-GOTSBHOMSA-N</td>\n",
       "      <td>50581372</td>\n",
       "      <td>CHEMBL5079418</td>\n",
       "      <td>Cruzipain</td>\n",
       "      <td>Trypanosoma cruzi</td>\n",
       "      <td>0.500000</td>\n",
       "      <td>NaN</td>\n",
       "      <td>...</td>\n",
       "      <td>Cruzipain</td>\n",
       "      <td>CYSP_TRYCR</td>\n",
       "      <td>P25779</td>\n",
       "      <td>NaN</td>\n",
       "      <td>NaN</td>\n",
       "      <td>NaN</td>\n",
       "      <td>NaN</td>\n",
       "      <td>NaN</td>\n",
       "      <td>NaN</td>\n",
       "      <td>NaN</td>\n",
       "    </tr>\n",
       "    <tr>\n",
       "      <th>4</th>\n",
       "      <td>51223601</td>\n",
       "      <td>CC(C)C[C@H](N[C@@H](c1ccc(cc1)-c1ccccc1)C(F)(F...</td>\n",
       "      <td>InChI=1S/C29H30F3N3O/c1-20(2)17-26(28(36)34-25...</td>\n",
       "      <td>VCYHSLAYQYYGHC-QKDODKLFSA-N</td>\n",
       "      <td>50502827</td>\n",
       "      <td>CHEMBL4565840</td>\n",
       "      <td>Cruzipain</td>\n",
       "      <td>Trypanosoma cruzi</td>\n",
       "      <td>0.630957</td>\n",
       "      <td>NaN</td>\n",
       "      <td>...</td>\n",
       "      <td>Cruzipain</td>\n",
       "      <td>CYSP_TRYCR</td>\n",
       "      <td>P25779</td>\n",
       "      <td>NaN</td>\n",
       "      <td>NaN</td>\n",
       "      <td>NaN</td>\n",
       "      <td>NaN</td>\n",
       "      <td>NaN</td>\n",
       "      <td>NaN</td>\n",
       "      <td>NaN</td>\n",
       "    </tr>\n",
       "  </tbody>\n",
       "</table>\n",
       "<p>5 rows × 50 columns</p>\n",
       "</div>"
      ],
      "text/plain": [
       "   BindingDB Reactant_set_id  \\\n",
       "0                   51439312   \n",
       "1                   51439295   \n",
       "2                   50527569   \n",
       "3                   51439305   \n",
       "4                   51223601   \n",
       "\n",
       "                                       Ligand SMILES  \\\n",
       "0  CN1CCN(CC1)C(=O)N[C@@H](Cc1ccccc1)C(=O)N[C@@H]...   \n",
       "1  O=C[C@H](Cc1ccccc1)NC(=O)[C@H](Cc1ccccc1)NC(=O...   \n",
       "2  C[C@H](NC(=O)[C@H](Cc1ccccc1)NC(=O)OCc1ccccc1)...   \n",
       "3  CN1CCN(CC1)C(=O)N[C@@H](Cc1ccccc1)C(=O)N[C@@H]...   \n",
       "4  CC(C)C[C@H](N[C@@H](c1ccc(cc1)-c1ccccc1)C(F)(F...   \n",
       "\n",
       "                                        Ligand InChI  \\\n",
       "0  InChI=1S/C32H38N4O4S/c1-35-20-22-36(23-21-35)3...   \n",
       "1  InChI=1S/C26H26N2O4/c29-18-23(16-20-10-4-1-5-1...   \n",
       "2  InChI=1S/C21H23N3O5/c1-16(12-13-24(27)28)22-20...   \n",
       "3  InChI=1S/C25H32N4O3/c1-28-14-16-29(17-15-28)25...   \n",
       "4  InChI=1S/C29H30F3N3O/c1-20(2)17-26(28(36)34-25...   \n",
       "\n",
       "              Ligand InChI Key  BindingDB MonomerID  \\\n",
       "0  RHJLQMVZXQKJKB-JDXGNMNLSA-N             50229129   \n",
       "1  OIKITZBTDSAJQH-ZEQRLZLVSA-N             50286450   \n",
       "2  HNMPKMOYOSYDNW-BIZPYBIZSA-N             50201259   \n",
       "3  BUMLVPVZNAMULE-GOTSBHOMSA-N             50581372   \n",
       "4  VCYHSLAYQYYGHC-QKDODKLFSA-N             50502827   \n",
       "\n",
       "                               BindingDB Ligand Name Target Name  \\\n",
       "0  4-Methyl-piperazine-1-carboxylic acid [(S)-1-(...   Cruzipain   \n",
       "1  CHEMBL128135::[(S)-1-((S)-1-Benzyl-2-oxo-ethyl...   Cruzipain   \n",
       "2                                      CHEMBL3907022   Cruzipain   \n",
       "3                                      CHEMBL5079418   Cruzipain   \n",
       "4                                      CHEMBL4565840   Cruzipain   \n",
       "\n",
       "  Target Source Organism According to Curator or DataSource    Ki (nM)  \\\n",
       "0                                  Trypanosoma cruzi          0.200000   \n",
       "1                                  Trypanosoma cruzi          0.440000   \n",
       "2                                  Trypanosoma cruzi          0.440000   \n",
       "3                                  Trypanosoma cruzi          0.500000   \n",
       "4                                  Trypanosoma cruzi          0.630957   \n",
       "\n",
       "  IC50 (nM)  ...  UniProt (SwissProt) Recommended Name of Target Chain  \\\n",
       "0       NaN  ...                                          Cruzipain      \n",
       "1       NaN  ...                                          Cruzipain      \n",
       "2       NaN  ...                                          Cruzipain      \n",
       "3       NaN  ...                                          Cruzipain      \n",
       "4       NaN  ...                                          Cruzipain      \n",
       "\n",
       "   UniProt (SwissProt) Entry Name of Target Chain  \\\n",
       "0                                      CYSP_TRYCR   \n",
       "1                                      CYSP_TRYCR   \n",
       "2                                      CYSP_TRYCR   \n",
       "3                                      CYSP_TRYCR   \n",
       "4                                      CYSP_TRYCR   \n",
       "\n",
       "   UniProt (SwissProt) Primary ID of Target Chain  \\\n",
       "0                                          P25779   \n",
       "1                                          P25779   \n",
       "2                                          P25779   \n",
       "3                                          P25779   \n",
       "4                                          P25779   \n",
       "\n",
       "   UniProt (SwissProt) Secondary ID(s) of Target Chain  \\\n",
       "0                                                NaN     \n",
       "1                                                NaN     \n",
       "2                                                NaN     \n",
       "3                                                NaN     \n",
       "4                                                NaN     \n",
       "\n",
       "   UniProt (SwissProt) Alternative ID(s) of Target Chain  \\\n",
       "0                                                NaN       \n",
       "1                                                NaN       \n",
       "2                                                NaN       \n",
       "3                                                NaN       \n",
       "4                                                NaN       \n",
       "\n",
       "   UniProt (TrEMBL) Submitted Name of Target Chain  \\\n",
       "0                                              NaN   \n",
       "1                                              NaN   \n",
       "2                                              NaN   \n",
       "3                                              NaN   \n",
       "4                                              NaN   \n",
       "\n",
       "  UniProt (TrEMBL) Entry Name of Target Chain  \\\n",
       "0                                         NaN   \n",
       "1                                         NaN   \n",
       "2                                         NaN   \n",
       "3                                         NaN   \n",
       "4                                         NaN   \n",
       "\n",
       "  UniProt (TrEMBL) Primary ID of Target Chain  \\\n",
       "0                                         NaN   \n",
       "1                                         NaN   \n",
       "2                                         NaN   \n",
       "3                                         NaN   \n",
       "4                                         NaN   \n",
       "\n",
       "  UniProt (TrEMBL) Secondary ID(s) of Target Chain  \\\n",
       "0                                              NaN   \n",
       "1                                              NaN   \n",
       "2                                              NaN   \n",
       "3                                              NaN   \n",
       "4                                              NaN   \n",
       "\n",
       "   UniProt (TrEMBL) Alternative ID(s) of Target Chain  \n",
       "0                                                NaN   \n",
       "1                                                NaN   \n",
       "2                                                NaN   \n",
       "3                                                NaN   \n",
       "4                                                NaN   \n",
       "\n",
       "[5 rows x 50 columns]"
      ]
     },
     "execution_count": 8,
     "metadata": {},
     "output_type": "execute_result"
    }
   ],
   "source": [
    "df_bindingdb.head()"
   ]
  },
  {
   "cell_type": "markdown",
   "metadata": {
    "id": "rnt8gOnI0aQA"
   },
   "source": [
    "## ChEMBL"
   ]
  },
  {
   "cell_type": "code",
   "execution_count": 11,
   "metadata": {
    "colab": {
     "base_uri": "https://localhost:8080/"
    },
    "executionInfo": {
     "elapsed": 268,
     "status": "ok",
     "timestamp": 1697242829435,
     "user": {
      "displayName": "Rafael L",
      "userId": "04467047833305667620"
     },
     "user_tz": 180
    },
    "id": "Bjy6pAtF0yta",
    "outputId": "503534a2-55dc-493e-efc9-e1e3c0a19ea5"
   },
   "outputs": [
    {
     "data": {
      "text/plain": [
       "(33255, 46)"
      ]
     },
     "execution_count": 11,
     "metadata": {},
     "output_type": "execute_result"
    }
   ],
   "source": [
    "df_chembl.shape"
   ]
  },
  {
   "cell_type": "code",
   "execution_count": 12,
   "metadata": {
    "colab": {
     "base_uri": "https://localhost:8080/"
    },
    "executionInfo": {
     "elapsed": 284,
     "status": "ok",
     "timestamp": 1697242831010,
     "user": {
      "displayName": "Rafael L",
      "userId": "04467047833305667620"
     },
     "user_tz": 180
    },
    "id": "ZIL9J13LKfpA",
    "outputId": "8d779bee-f1c4-4792-a856-1c68ebc0e06f"
   },
   "outputs": [
    {
     "data": {
      "text/plain": [
       "(33218, 46)"
      ]
     },
     "execution_count": 12,
     "metadata": {},
     "output_type": "execute_result"
    }
   ],
   "source": [
    "# Select only compounds with SMILES\n",
    "df_chembl = df_chembl[df_chembl['Smiles'].notna()]\n",
    "df_chembl.shape"
   ]
  },
  {
   "cell_type": "code",
   "execution_count": 13,
   "metadata": {
    "colab": {
     "base_uri": "https://localhost:8080/"
    },
    "executionInfo": {
     "elapsed": 8,
     "status": "ok",
     "timestamp": 1697242833104,
     "user": {
      "displayName": "Rafael L",
      "userId": "04467047833305667620"
     },
     "user_tz": 180
    },
    "id": "fr2Wdpp50rAM",
    "outputId": "be319df3-f123-4f76-ccd0-b0c43c7b3212"
   },
   "outputs": [
    {
     "data": {
      "text/plain": [
       "'='     32592\n",
       "'>'       215\n",
       "'>>'       32\n",
       "'<'        30\n",
       "'>='        6\n",
       "'<='        1\n",
       "Name: Standard Relation, dtype: int64"
      ]
     },
     "execution_count": 13,
     "metadata": {},
     "output_type": "execute_result"
    }
   ],
   "source": [
    "df_chembl[\"Standard Relation\"].value_counts()"
   ]
  },
  {
   "cell_type": "code",
   "execution_count": 14,
   "metadata": {
    "colab": {
     "base_uri": "https://localhost:8080/"
    },
    "executionInfo": {
     "elapsed": 9,
     "status": "ok",
     "timestamp": 1697242833487,
     "user": {
      "displayName": "Rafael L",
      "userId": "04467047833305667620"
     },
     "user_tz": 180
    },
    "id": "WjqWNSOZ0iVy",
    "outputId": "105adc1e-83f9-42d3-ffc2-4baba8f78b6d"
   },
   "outputs": [
    {
     "data": {
      "text/plain": [
       "(32797, 46)"
      ]
     },
     "execution_count": 14,
     "metadata": {},
     "output_type": "execute_result"
    }
   ],
   "source": [
    "# Select values with exact activity or activity > 1000 nM (inactives) or activity < 1000 nM (actives)\n",
    "df_sub = df_chembl[(df_chembl[\"Standard Relation\"] == \"'='\") | \\\n",
    "                   ( (df_chembl[\"Standard Relation\"] == \"'>'\") & (df_chembl[\"Standard Value\"] >= 1000)) | \\\n",
    "                   ( (df_chembl[\"Standard Relation\"] == \"'<'\") & (df_chembl[\"Standard Value\"] <= 1000))]\n",
    "df_sub.shape"
   ]
  },
  {
   "cell_type": "code",
   "execution_count": 15,
   "metadata": {
    "colab": {
     "base_uri": "https://localhost:8080/"
    },
    "executionInfo": {
     "elapsed": 6,
     "status": "ok",
     "timestamp": 1697242833871,
     "user": {
      "displayName": "Rafael L",
      "userId": "04467047833305667620"
     },
     "user_tz": 180
    },
    "id": "2nYDaoSD1H4t",
    "outputId": "6a4f3ad9-8643-4585-9d7b-10feec2b1cb5"
   },
   "outputs": [
    {
     "data": {
      "text/plain": [
       "Potency       30531\n",
       "Inhibition      900\n",
       "IC50            812\n",
       "Ki              341\n",
       "Ratio            59\n",
       "Kinact           28\n",
       "K                27\n",
       "ID50             21\n",
       "V0               18\n",
       "Activity         17\n",
       "K ass            13\n",
       "k obs / 1         8\n",
       "FC                5\n",
       "Kcat/Km           4\n",
       "K inact           3\n",
       "K inact/Ki        3\n",
       "Ka                3\n",
       "Kd                2\n",
       "Ratio IC50        2\n",
       "Name: Standard Type, dtype: int64"
      ]
     },
     "execution_count": 15,
     "metadata": {},
     "output_type": "execute_result"
    }
   ],
   "source": [
    "df_sub[\"Standard Type\"].value_counts()"
   ]
  },
  {
   "cell_type": "code",
   "execution_count": 16,
   "metadata": {
    "colab": {
     "base_uri": "https://localhost:8080/",
     "height": 430
    },
    "executionInfo": {
     "elapsed": 942,
     "status": "ok",
     "timestamp": 1697242835892,
     "user": {
      "displayName": "Rafael L",
      "userId": "04467047833305667620"
     },
     "user_tz": 180
    },
    "id": "a8VQvO8iO-eA",
    "outputId": "dbab88bb-e036-4e28-9b26-2f91e2da2eac"
   },
   "outputs": [
    {
     "data": {
      "image/png": "[encoded data removed]",
      "text/plain": [
       "<Figure size 640x480 with 1 Axes>"
      ]
     },
     "metadata": {},
     "output_type": "display_data"
    }
   ],
   "source": [
    "# Let's see what are these Potency values\n",
    "df_pot = df_sub[df_sub[\"Standard Type\"] == \"Potency\"]\n",
    "df_pot_pAct = df_pot[\"Standard Value\"].apply(lambda x: round(9 - np.log10(x), 2))\n",
    "df_pot_pAct.hist();"
   ]
  },
  {
   "cell_type": "markdown",
   "metadata": {
    "id": "0ruVAArmMdB6"
   },
   "source": [
    "Mostly inactive compounds. For consistency, let's select IC50 and Ki for training and keep Potency as a test set."
   ]
  },
  {
   "cell_type": "code",
   "execution_count": 17,
   "metadata": {
    "colab": {
     "base_uri": "https://localhost:8080/"
    },
    "executionInfo": {
     "elapsed": 289,
     "status": "ok",
     "timestamp": 1697242840218,
     "user": {
      "displayName": "Rafael L",
      "userId": "04467047833305667620"
     },
     "user_tz": 180
    },
    "id": "HueR8b-j1JkF",
    "outputId": "089f44d7-cea1-4171-d9a8-f059f9f2be6c"
   },
   "outputs": [
    {
     "data": {
      "text/plain": [
       "(1153, 46)"
      ]
     },
     "execution_count": 17,
     "metadata": {},
     "output_type": "execute_result"
    }
   ],
   "source": [
    "# Select only IC50 and Ki\n",
    "df_sub2 = df_sub[df_sub[\"Standard Type\"].isin([\"IC50\", \"Ki\"])]\n",
    "df_sub2.shape"
   ]
  },
  {
   "cell_type": "code",
   "execution_count": 18,
   "metadata": {
    "colab": {
     "base_uri": "https://localhost:8080/"
    },
    "executionInfo": {
     "elapsed": 11,
     "status": "ok",
     "timestamp": 1697242840666,
     "user": {
      "displayName": "Rafael L",
      "userId": "04467047833305667620"
     },
     "user_tz": 180
    },
    "id": "GjbevKZQ2IA7",
    "outputId": "23783008-cb44-4091-971b-fef0274c4fde"
   },
   "outputs": [
    {
     "data": {
      "text/plain": [
       "nM    1153\n",
       "Name: Standard Units, dtype: int64"
      ]
     },
     "execution_count": 18,
     "metadata": {},
     "output_type": "execute_result"
    }
   ],
   "source": [
    "df_sub2[\"Standard Units\"].value_counts()"
   ]
  },
  {
   "cell_type": "code",
   "execution_count": 19,
   "metadata": {
    "colab": {
     "base_uri": "https://localhost:8080/"
    },
    "executionInfo": {
     "elapsed": 13,
     "status": "ok",
     "timestamp": 1697242841073,
     "user": {
      "displayName": "Rafael L",
      "userId": "04467047833305667620"
     },
     "user_tz": 180
    },
    "id": "DAxb1CWO2wo4",
    "outputId": "78ebe508-f9c6-493d-96fd-cf3bcdbdf2e9"
   },
   "outputs": [
    {
     "data": {
      "text/plain": [
       "(1153, 46)"
      ]
     },
     "execution_count": 19,
     "metadata": {},
     "output_type": "execute_result"
    }
   ],
   "source": [
    "# Select activities with nanomolar units\n",
    "df_sub3 = df_sub2[df_sub2[\"Standard Units\"] == \"nM\"]\n",
    "df_sub3.shape"
   ]
  },
  {
   "cell_type": "code",
   "execution_count": 20,
   "metadata": {
    "executionInfo": {
     "elapsed": 432,
     "status": "ok",
     "timestamp": 1697242843372,
     "user": {
      "displayName": "Rafael L",
      "userId": "04467047833305667620"
     },
     "user_tz": 180
    },
    "id": "ABVqLlzl3djc"
   },
   "outputs": [],
   "source": [
    "# Multiply Ki values by 2.3 -> create column Kix23\n",
    "# See: Comparability of Mixed IC50 Data – A Statistical Analysis\n",
    "\n",
    "selected_rows = df_sub3[df_sub3['Standard Type'] == 'Ki']\n",
    "\n",
    "if not selected_rows.empty:\n",
    "    new_rows = selected_rows.copy()\n",
    "    new_rows['Standard Value'] = new_rows['Standard Value'] * 2.3\n",
    "    new_rows['Standard Type'] = 'Kix23'\n",
    "\n",
    "    # Add values to dataset\n",
    "    df_sub3 = pd.concat([df_sub3, new_rows], ignore_index=False)"
   ]
  },
  {
   "cell_type": "code",
   "execution_count": 21,
   "metadata": {
    "colab": {
     "base_uri": "https://localhost:8080/"
    },
    "executionInfo": {
     "elapsed": 13,
     "status": "ok",
     "timestamp": 1697242843373,
     "user": {
      "displayName": "Rafael L",
      "userId": "04467047833305667620"
     },
     "user_tz": 180
    },
    "id": "ln6jBjGn4fZk",
    "outputId": "33f5d293-fd7d-48be-c23f-ff955dcfbadd"
   },
   "outputs": [
    {
     "data": {
      "text/plain": [
       "(1494, 46)"
      ]
     },
     "execution_count": 21,
     "metadata": {},
     "output_type": "execute_result"
    }
   ],
   "source": [
    "df_sub3.shape"
   ]
  },
  {
   "cell_type": "code",
   "execution_count": 22,
   "metadata": {
    "colab": {
     "base_uri": "https://localhost:8080/"
    },
    "executionInfo": {
     "elapsed": 9,
     "status": "ok",
     "timestamp": 1697242843373,
     "user": {
      "displayName": "Rafael L",
      "userId": "04467047833305667620"
     },
     "user_tz": 180
    },
    "id": "UsX4MRVg3su0",
    "outputId": "de58d6d7-a155-427c-b193-e6ae4fe8b076"
   },
   "outputs": [
    {
     "data": {
      "text/plain": [
       "(1153, 46)"
      ]
     },
     "execution_count": 22,
     "metadata": {},
     "output_type": "execute_result"
    }
   ],
   "source": [
    "df_sub4 = df_sub3[df_sub3[\"Standard Type\"].isin([\"IC50\", \"Kix23\"])].copy()\n",
    "df_sub4.shape"
   ]
  },
  {
   "cell_type": "code",
   "execution_count": 23,
   "metadata": {
    "colab": {
     "base_uri": "https://localhost:8080/",
     "height": 206
    },
    "executionInfo": {
     "elapsed": 277,
     "status": "ok",
     "timestamp": 1697242846180,
     "user": {
      "displayName": "Rafael L",
      "userId": "04467047833305667620"
     },
     "user_tz": 180
    },
    "id": "pa1JfF2q5Bmt",
    "outputId": "5ee4b2ca-e2ae-404d-fa08-02ec52b6f40c",
    "scrolled": true
   },
   "outputs": [
    {
     "data": {
      "text/html": [
       "<div>\n",
       "<style scoped>\n",
       "    .dataframe tbody tr th:only-of-type {\n",
       "        vertical-align: middle;\n",
       "    }\n",
       "\n",
       "    .dataframe tbody tr th {\n",
       "        vertical-align: top;\n",
       "    }\n",
       "\n",
       "    .dataframe thead th {\n",
       "        text-align: right;\n",
       "    }\n",
       "</style>\n",
       "<table border=\"1\" class=\"dataframe\">\n",
       "  <thead>\n",
       "    <tr style=\"text-align: right;\">\n",
       "      <th></th>\n",
       "      <th>Smiles</th>\n",
       "      <th>pAct</th>\n",
       "    </tr>\n",
       "  </thead>\n",
       "  <tbody>\n",
       "    <tr>\n",
       "      <th>4</th>\n",
       "      <td>Oc1cc(-c2ccc(Cl)c(Cl)c2)[nH]n1</td>\n",
       "      <td>4.92</td>\n",
       "    </tr>\n",
       "    <tr>\n",
       "      <th>5</th>\n",
       "      <td>O=C(CSc1nnc(-c2ccccc2)o1)N1CCN(c2ccccc2)CC1</td>\n",
       "      <td>4.52</td>\n",
       "    </tr>\n",
       "    <tr>\n",
       "      <th>6</th>\n",
       "      <td>Cc1ccc(NC(=O)CSC(N)=O)cc1Cl</td>\n",
       "      <td>4.22</td>\n",
       "    </tr>\n",
       "    <tr>\n",
       "      <th>7</th>\n",
       "      <td>C=CCNC(=O)c1cc([N+](=O)[O-])cc2c(=O)[nH]c(Nc3c...</td>\n",
       "      <td>4.22</td>\n",
       "    </tr>\n",
       "    <tr>\n",
       "      <th>8</th>\n",
       "      <td>Cc1ccc(NC(=O)c2ccc(CN3CCN(C)CC3)cc2)cc1Nc1nccc...</td>\n",
       "      <td>3.68</td>\n",
       "    </tr>\n",
       "  </tbody>\n",
       "</table>\n",
       "</div>"
      ],
      "text/plain": [
       "                                              Smiles  pAct\n",
       "4                     Oc1cc(-c2ccc(Cl)c(Cl)c2)[nH]n1  4.92\n",
       "5        O=C(CSc1nnc(-c2ccccc2)o1)N1CCN(c2ccccc2)CC1  4.52\n",
       "6                        Cc1ccc(NC(=O)CSC(N)=O)cc1Cl  4.22\n",
       "7  C=CCNC(=O)c1cc([N+](=O)[O-])cc2c(=O)[nH]c(Nc3c...  4.22\n",
       "8  Cc1ccc(NC(=O)c2ccc(CN3CCN(C)CC3)cc2)cc1Nc1nccc...  3.68"
      ]
     },
     "execution_count": 23,
     "metadata": {},
     "output_type": "execute_result"
    }
   ],
   "source": [
    "# Create pAct column = -log10 activity. 9 is added to convert nM -> M\n",
    "df_sub4[\"pAct\"] = df_sub4[\"Standard Value\"].apply(lambda x: round(9 - np.log10(x), 2))\n",
    "\n",
    "df_sub5 = df_sub4[['Smiles', 'pAct']]\n",
    "df_sub5.head()"
   ]
  },
  {
   "cell_type": "code",
   "execution_count": 24,
   "metadata": {
    "colab": {
     "base_uri": "https://localhost:8080/"
    },
    "executionInfo": {
     "elapsed": 13,
     "status": "ok",
     "timestamp": 1697242847215,
     "user": {
      "displayName": "Rafael L",
      "userId": "04467047833305667620"
     },
     "user_tz": 180
    },
    "id": "9BkeMmwv6Xaq",
    "outputId": "4f1731ef-9bcc-4c7a-fb73-d22e6d7eae61"
   },
   "outputs": [
    {
     "data": {
      "text/plain": [
       "(1153, 2)"
      ]
     },
     "execution_count": 24,
     "metadata": {},
     "output_type": "execute_result"
    }
   ],
   "source": [
    "df_sub5.shape"
   ]
  },
  {
   "cell_type": "code",
   "execution_count": 25,
   "metadata": {
    "colab": {
     "base_uri": "https://localhost:8080/"
    },
    "executionInfo": {
     "elapsed": 15,
     "status": "ok",
     "timestamp": 1697242848231,
     "user": {
      "displayName": "Rafael L",
      "userId": "04467047833305667620"
     },
     "user_tz": 180
    },
    "id": "g4C2n9Bdv1uL",
    "outputId": "d1fcc2b3-1a29-4f20-dc30-a9b0ffea0822"
   },
   "outputs": [
    {
     "data": {
      "text/plain": [
       "(1149, 2)"
      ]
     },
     "execution_count": 25,
     "metadata": {},
     "output_type": "execute_result"
    }
   ],
   "source": [
    "# Delete activity values outside the usual range\n",
    "df_sub6 = df_sub5[~(df_sub5['pAct'] < 3) & ~(df_sub5['pAct'] > 12)]\n",
    "df_sub6.shape"
   ]
  },
  {
   "cell_type": "code",
   "execution_count": 26,
   "metadata": {
    "colab": {
     "base_uri": "https://localhost:8080/",
     "height": 454
    },
    "executionInfo": {
     "elapsed": 484,
     "status": "ok",
     "timestamp": 1697242850941,
     "user": {
      "displayName": "Rafael L",
      "userId": "04467047833305667620"
     },
     "user_tz": 180
    },
    "id": "xEkUyqJ_I_Xs",
    "outputId": "727dc65f-c408-45c7-c7bf-5a6745d58f03"
   },
   "outputs": [
    {
     "data": {
      "image/png": "[encoded data removed]",
      "text/plain": [
       "<Figure size 640x480 with 1 Axes>"
      ]
     },
     "metadata": {},
     "output_type": "display_data"
    }
   ],
   "source": [
    "histogram_pAct(df_sub6[\"pAct\"])"
   ]
  },
  {
   "cell_type": "markdown",
   "metadata": {
    "id": "nkfj0aUx0cnH"
   },
   "source": [
    "## BindingDB"
   ]
  },
  {
   "cell_type": "code",
   "execution_count": 27,
   "metadata": {
    "colab": {
     "base_uri": "https://localhost:8080/"
    },
    "executionInfo": {
     "elapsed": 275,
     "status": "ok",
     "timestamp": 1697242864113,
     "user": {
      "displayName": "Rafael L",
      "userId": "04467047833305667620"
     },
     "user_tz": 180
    },
    "id": "44wFNb3-0dix",
    "outputId": "920a92a0-daea-433a-9b6a-bed7c89c4cc1"
   },
   "outputs": [
    {
     "data": {
      "text/plain": [
       "(1150, 50)"
      ]
     },
     "execution_count": 27,
     "metadata": {},
     "output_type": "execute_result"
    }
   ],
   "source": [
    "df_bindingdb.shape"
   ]
  },
  {
   "cell_type": "code",
   "execution_count": 28,
   "metadata": {
    "colab": {
     "base_uri": "https://localhost:8080/"
    },
    "executionInfo": {
     "elapsed": 9,
     "status": "ok",
     "timestamp": 1697242864515,
     "user": {
      "displayName": "Rafael L",
      "userId": "04467047833305667620"
     },
     "user_tz": 180
    },
    "id": "8Z8aJynz72mM",
    "outputId": "3165eaeb-9f24-4524-d091-f9da12bf0304"
   },
   "outputs": [
    {
     "data": {
      "text/plain": [
       "Index(['BindingDB Reactant_set_id', 'Ligand SMILES', 'Ligand InChI',\n",
       "       'Ligand InChI Key', 'BindingDB MonomerID', 'BindingDB Ligand Name',\n",
       "       'Target Name',\n",
       "       'Target Source Organism According to Curator or DataSource', 'Ki (nM)',\n",
       "       'IC50 (nM)', 'Kd (nM)', 'EC50 (nM)', 'kon (M-1-s-1)', 'koff (s-1)',\n",
       "       'pH', 'Temp (C)', 'Curation/DataSource', 'Article DOI',\n",
       "       'BindingDB Entry DOI', 'PMID', 'PubChem AID', 'Patent Number',\n",
       "       'Authors', 'Institution', 'Link to Ligand in BindingDB',\n",
       "       'Link to Target in BindingDB',\n",
       "       'Link to Ligand-Target Pair in BindingDB', 'Ligand HET ID in PDB',\n",
       "       'PDB ID(s) for Ligand-Target Complex', 'PubChem CID of Ligand',\n",
       "       'PubChem SID of Ligand', 'ChEBI ID of Ligand', 'ChEMBL ID of Ligand',\n",
       "       'DrugBank ID of Ligand', 'IUPHAR_GRAC ID of Ligand',\n",
       "       'KEGG ID of Ligand', 'ZINC ID of Ligand',\n",
       "       'Number of Protein Chains in Target (>1 implies a multichain complex)',\n",
       "       'BindingDB Target Chain Sequence', 'PDB ID(s) of Target Chain',\n",
       "       'UniProt (SwissProt) Recommended Name of Target Chain',\n",
       "       'UniProt (SwissProt) Entry Name of Target Chain',\n",
       "       'UniProt (SwissProt) Primary ID of Target Chain',\n",
       "       'UniProt (SwissProt) Secondary ID(s) of Target Chain',\n",
       "       'UniProt (SwissProt) Alternative ID(s) of Target Chain',\n",
       "       'UniProt (TrEMBL) Submitted Name of Target Chain',\n",
       "       'UniProt (TrEMBL) Entry Name of Target Chain',\n",
       "       'UniProt (TrEMBL) Primary ID of Target Chain',\n",
       "       'UniProt (TrEMBL) Secondary ID(s) of Target Chain',\n",
       "       'UniProt (TrEMBL) Alternative ID(s) of Target Chain'],\n",
       "      dtype='object')"
      ]
     },
     "execution_count": 28,
     "metadata": {},
     "output_type": "execute_result"
    }
   ],
   "source": [
    "df_bindingdb.columns"
   ]
  },
  {
   "cell_type": "code",
   "execution_count": 29,
   "metadata": {
    "colab": {
     "base_uri": "https://localhost:8080/"
    },
    "executionInfo": {
     "elapsed": 296,
     "status": "ok",
     "timestamp": 1697242867077,
     "user": {
      "displayName": "Rafael L",
      "userId": "04467047833305667620"
     },
     "user_tz": 180
    },
    "id": "tRs03F6bKqEd",
    "outputId": "9e23021b-afd9-42f6-bbb5-0c4f6536a5f6"
   },
   "outputs": [
    {
     "data": {
      "text/plain": [
       "(1150, 50)"
      ]
     },
     "execution_count": 29,
     "metadata": {},
     "output_type": "execute_result"
    }
   ],
   "source": [
    "df_bindingdb = df_bindingdb[df_bindingdb['Ligand SMILES'].notna()]\n",
    "df_bindingdb.shape"
   ]
  },
  {
   "cell_type": "code",
   "execution_count": 30,
   "metadata": {
    "colab": {
     "base_uri": "https://localhost:8080/"
    },
    "executionInfo": {
     "elapsed": 18,
     "status": "ok",
     "timestamp": 1697242867498,
     "user": {
      "displayName": "Rafael L",
      "userId": "04467047833305667620"
     },
     "user_tz": 180
    },
    "id": "aOumXYQ98vr_",
    "outputId": "37ae4b1d-17e0-44fa-90ec-acd584e400af"
   },
   "outputs": [
    {
     "name": "stdout",
     "output_type": "stream",
     "text": [
      "332\n",
      "818\n",
      "0\n",
      "0\n"
     ]
    }
   ],
   "source": [
    "print(df_bindingdb.shape[0] - df_bindingdb['Ki (nM)'].isna().sum())\n",
    "print(df_bindingdb.shape[0] - df_bindingdb['IC50 (nM)'].isna().sum())\n",
    "print(df_bindingdb.shape[0] - df_bindingdb['Kd (nM)'].isna().sum())\n",
    "print(df_bindingdb.shape[0] - df_bindingdb['EC50 (nM)'].isna().sum())"
   ]
  },
  {
   "cell_type": "code",
   "execution_count": 31,
   "metadata": {
    "executionInfo": {
     "elapsed": 281,
     "status": "ok",
     "timestamp": 1697242870545,
     "user": {
      "displayName": "Rafael L",
      "userId": "04467047833305667620"
     },
     "user_tz": 180
    },
    "id": "vfU3GC338EFv"
   },
   "outputs": [],
   "source": [
    "# Select only IC50 and Ki\n",
    "dfbd = df_bindingdb[['Ligand SMILES', 'Ki (nM)', 'IC50 (nM)']]"
   ]
  },
  {
   "cell_type": "code",
   "execution_count": 32,
   "metadata": {
    "colab": {
     "base_uri": "https://localhost:8080/",
     "height": 423
    },
    "executionInfo": {
     "elapsed": 17,
     "status": "ok",
     "timestamp": 1697242871510,
     "user": {
      "displayName": "Rafael L",
      "userId": "04467047833305667620"
     },
     "user_tz": 180
    },
    "id": "AvtupVAXA93i",
    "outputId": "5de3adf4-5d1d-4e29-eeac-691fb149a6b6"
   },
   "outputs": [
    {
     "data": {
      "text/html": [
       "<div>\n",
       "<style scoped>\n",
       "    .dataframe tbody tr th:only-of-type {\n",
       "        vertical-align: middle;\n",
       "    }\n",
       "\n",
       "    .dataframe tbody tr th {\n",
       "        vertical-align: top;\n",
       "    }\n",
       "\n",
       "    .dataframe thead th {\n",
       "        text-align: right;\n",
       "    }\n",
       "</style>\n",
       "<table border=\"1\" class=\"dataframe\">\n",
       "  <thead>\n",
       "    <tr style=\"text-align: right;\">\n",
       "      <th></th>\n",
       "      <th>Ligand SMILES</th>\n",
       "      <th>Ki (nM)</th>\n",
       "      <th>IC50 (nM)</th>\n",
       "    </tr>\n",
       "  </thead>\n",
       "  <tbody>\n",
       "    <tr>\n",
       "      <th>0</th>\n",
       "      <td>CN1CCN(CC1)C(=O)N[C@@H](Cc1ccccc1)C(=O)N[C@@H]...</td>\n",
       "      <td>0.200000</td>\n",
       "      <td>NaN</td>\n",
       "    </tr>\n",
       "    <tr>\n",
       "      <th>1</th>\n",
       "      <td>O=C[C@H](Cc1ccccc1)NC(=O)[C@H](Cc1ccccc1)NC(=O...</td>\n",
       "      <td>0.440000</td>\n",
       "      <td>NaN</td>\n",
       "    </tr>\n",
       "    <tr>\n",
       "      <th>2</th>\n",
       "      <td>C[C@H](NC(=O)[C@H](Cc1ccccc1)NC(=O)OCc1ccccc1)...</td>\n",
       "      <td>0.440000</td>\n",
       "      <td>NaN</td>\n",
       "    </tr>\n",
       "    <tr>\n",
       "      <th>3</th>\n",
       "      <td>CN1CCN(CC1)C(=O)N[C@@H](Cc1ccccc1)C(=O)N[C@@H]...</td>\n",
       "      <td>0.500000</td>\n",
       "      <td>NaN</td>\n",
       "    </tr>\n",
       "    <tr>\n",
       "      <th>4</th>\n",
       "      <td>CC(C)C[C@H](N[C@@H](c1ccc(cc1)-c1ccccc1)C(F)(F...</td>\n",
       "      <td>0.630957</td>\n",
       "      <td>NaN</td>\n",
       "    </tr>\n",
       "    <tr>\n",
       "      <th>...</th>\n",
       "      <td>...</td>\n",
       "      <td>...</td>\n",
       "      <td>...</td>\n",
       "    </tr>\n",
       "    <tr>\n",
       "      <th>1145</th>\n",
       "      <td>Clc1cccc(Nc2nc(nc3n(cnc23)C2CCCC2)C#N)c1</td>\n",
       "      <td>NaN</td>\n",
       "      <td>40</td>\n",
       "    </tr>\n",
       "    <tr>\n",
       "      <th>1146</th>\n",
       "      <td>CCC(=NNC(N)=S)c1cccc(Br)c1</td>\n",
       "      <td>NaN</td>\n",
       "      <td>40</td>\n",
       "    </tr>\n",
       "    <tr>\n",
       "      <th>1147</th>\n",
       "      <td>COc1cc(C=NNC(=O)c2nc(no2)-c2ccc(Cl)cc2)ccc1O</td>\n",
       "      <td>NaN</td>\n",
       "      <td>40</td>\n",
       "    </tr>\n",
       "    <tr>\n",
       "      <th>1148</th>\n",
       "      <td>CC1CN(N=C1c1cccc(c1)C(F)(F)F)C(N)=S</td>\n",
       "      <td>NaN</td>\n",
       "      <td>40</td>\n",
       "    </tr>\n",
       "    <tr>\n",
       "      <th>1149</th>\n",
       "      <td>COc1ccc(cc1)-c1csc(N\\N=C(/C)c2ccccn2)n1</td>\n",
       "      <td>NaN</td>\n",
       "      <td>40</td>\n",
       "    </tr>\n",
       "  </tbody>\n",
       "</table>\n",
       "<p>1150 rows × 3 columns</p>\n",
       "</div>"
      ],
      "text/plain": [
       "                                          Ligand SMILES    Ki (nM) IC50 (nM)\n",
       "0     CN1CCN(CC1)C(=O)N[C@@H](Cc1ccccc1)C(=O)N[C@@H]...   0.200000       NaN\n",
       "1     O=C[C@H](Cc1ccccc1)NC(=O)[C@H](Cc1ccccc1)NC(=O...   0.440000       NaN\n",
       "2     C[C@H](NC(=O)[C@H](Cc1ccccc1)NC(=O)OCc1ccccc1)...   0.440000       NaN\n",
       "3     CN1CCN(CC1)C(=O)N[C@@H](Cc1ccccc1)C(=O)N[C@@H]...   0.500000       NaN\n",
       "4     CC(C)C[C@H](N[C@@H](c1ccc(cc1)-c1ccccc1)C(F)(F...   0.630957       NaN\n",
       "...                                                 ...        ...       ...\n",
       "1145           Clc1cccc(Nc2nc(nc3n(cnc23)C2CCCC2)C#N)c1        NaN        40\n",
       "1146                         CCC(=NNC(N)=S)c1cccc(Br)c1        NaN        40\n",
       "1147       COc1cc(C=NNC(=O)c2nc(no2)-c2ccc(Cl)cc2)ccc1O        NaN        40\n",
       "1148                CC1CN(N=C1c1cccc(c1)C(F)(F)F)C(N)=S        NaN        40\n",
       "1149            COc1ccc(cc1)-c1csc(N\\N=C(/C)c2ccccn2)n1        NaN        40\n",
       "\n",
       "[1150 rows x 3 columns]"
      ]
     },
     "execution_count": 32,
     "metadata": {},
     "output_type": "execute_result"
    }
   ],
   "source": [
    "dfbd"
   ]
  },
  {
   "cell_type": "code",
   "execution_count": 33,
   "metadata": {
    "colab": {
     "base_uri": "https://localhost:8080/"
    },
    "executionInfo": {
     "elapsed": 276,
     "status": "ok",
     "timestamp": 1697242874098,
     "user": {
      "displayName": "Rafael L",
      "userId": "04467047833305667620"
     },
     "user_tz": 180
    },
    "id": "8unYGkIE74xj",
    "outputId": "cf3d42cc-86d2-485f-c8ff-a65f77e661e1"
   },
   "outputs": [
    {
     "name": "stdout",
     "output_type": "stream",
     "text": [
      "0\n",
      "0\n"
     ]
    }
   ],
   "source": [
    "# Check if any row has both Ki and IC50\n",
    "print((dfbd['Ki (nM)'].notna() & dfbd['IC50 (nM)'].notna()).sum())\n",
    "\n",
    "# Check both NaN\n",
    "print((dfbd['Ki (nM)'].isna() & dfbd['IC50 (nM)'].isna()).sum())"
   ]
  },
  {
   "cell_type": "code",
   "execution_count": 34,
   "metadata": {
    "colab": {
     "base_uri": "https://localhost:8080/"
    },
    "executionInfo": {
     "elapsed": 270,
     "status": "ok",
     "timestamp": 1697242876291,
     "user": {
      "displayName": "Rafael L",
      "userId": "04467047833305667620"
     },
     "user_tz": 180
    },
    "id": "47ENQwCs8iJn",
    "outputId": "128a4ff5-5038-42d5-ba75-da70dd8d79fc"
   },
   "outputs": [
    {
     "data": {
      "text/plain": [
       "(1150, 3)"
      ]
     },
     "execution_count": 34,
     "metadata": {},
     "output_type": "execute_result"
    }
   ],
   "source": [
    "# Remove both NaN\n",
    "dfbd2 = dfbd[~(dfbd['Ki (nM)'].isna() & dfbd['IC50 (nM)'].isna())].copy()\n",
    "dfbd2.shape"
   ]
  },
  {
   "cell_type": "code",
   "execution_count": 35,
   "metadata": {
    "executionInfo": {
     "elapsed": 275,
     "status": "ok",
     "timestamp": 1697242880706,
     "user": {
      "displayName": "Rafael L",
      "userId": "04467047833305667620"
     },
     "user_tz": 180
    },
    "id": "esK2-6PD-e06"
   },
   "outputs": [],
   "source": [
    "# Create new column to include compounds with relation '>' if activity >= 1000\n",
    "# or '<' if activity < 1000\n",
    "merged_act = dfbd2['Ki (nM)'].combine_first(dfbd2['IC50 (nM)'])\n",
    "\n",
    "act_values = []\n",
    "\n",
    "for value in merged_act:\n",
    "    if value[0] == '>':\n",
    "        new_value = float(value[1:])\n",
    "        if new_value >= 1000:\n",
    "            act_values.append(new_value)\n",
    "        else:\n",
    "            act_values.append(0)\n",
    "    elif value[0] == '<':\n",
    "        new_value = float(value[1:])\n",
    "        if new_value <= 1000:\n",
    "            act_values.append(new_value)\n",
    "        else:\n",
    "            act_values.append(0)\n",
    "    elif value[0] == '~':\n",
    "        act_values.append(0)\n",
    "    else:\n",
    "        act_values.append(float(value))"
   ]
  },
  {
   "cell_type": "code",
   "execution_count": 36,
   "metadata": {
    "executionInfo": {
     "elapsed": 352,
     "status": "ok",
     "timestamp": 1697242884818,
     "user": {
      "displayName": "Rafael L",
      "userId": "04467047833305667620"
     },
     "user_tz": 180
    },
    "id": "LNoDJY94BI26"
   },
   "outputs": [],
   "source": [
    "# Multiply Ki values by 2.3\n",
    "mult = []\n",
    "\n",
    "for b in dfbd2['Ki (nM)'].notna():\n",
    "    if b:\n",
    "        mult.append(2.3)\n",
    "    else:\n",
    "        mult.append(1)\n",
    "\n",
    "# Create Standard Value-like column\n",
    "std_values = [act_values[i] * mult[i] for i in range(len(act_values))]"
   ]
  },
  {
   "cell_type": "code",
   "execution_count": 37,
   "metadata": {
    "colab": {
     "base_uri": "https://localhost:8080/"
    },
    "executionInfo": {
     "elapsed": 268,
     "status": "ok",
     "timestamp": 1697242887069,
     "user": {
      "displayName": "Rafael L",
      "userId": "04467047833305667620"
     },
     "user_tz": 180
    },
    "id": "cD-fYXIRB65m",
    "outputId": "bfec793a-f4d4-438f-b212-a9b2f760d87c"
   },
   "outputs": [
    {
     "data": {
      "text/plain": [
       "(1150, 2)"
      ]
     },
     "execution_count": 37,
     "metadata": {},
     "output_type": "execute_result"
    }
   ],
   "source": [
    "dfbd3 = pd.DataFrame()\n",
    "dfbd3['Ligand SMILES'] = dfbd2['Ligand SMILES']\n",
    "dfbd3['Act'] = std_values\n",
    "dfbd3.shape"
   ]
  },
  {
   "cell_type": "code",
   "execution_count": 38,
   "metadata": {
    "colab": {
     "base_uri": "https://localhost:8080/"
    },
    "executionInfo": {
     "elapsed": 290,
     "status": "ok",
     "timestamp": 1697242889536,
     "user": {
      "displayName": "Rafael L",
      "userId": "04467047833305667620"
     },
     "user_tz": 180
    },
    "id": "irtvceB2HsQj",
    "outputId": "762d7d62-5363-40b2-e29b-1766fcbc3821"
   },
   "outputs": [
    {
     "data": {
      "text/plain": [
       "(1139, 2)"
      ]
     },
     "execution_count": 38,
     "metadata": {},
     "output_type": "execute_result"
    }
   ],
   "source": [
    "# Drop rows that failed: value 0 on act_values\n",
    "dfbd4 = dfbd3[dfbd3['Act'] != 0].copy()\n",
    "dfbd4.shape"
   ]
  },
  {
   "cell_type": "code",
   "execution_count": 39,
   "metadata": {
    "colab": {
     "base_uri": "https://localhost:8080/",
     "height": 423
    },
    "executionInfo": {
     "elapsed": 280,
     "status": "ok",
     "timestamp": 1697242892782,
     "user": {
      "displayName": "Rafael L",
      "userId": "04467047833305667620"
     },
     "user_tz": 180
    },
    "id": "NkZfDQEPIa5W",
    "outputId": "eec6830a-8fbd-4782-aa06-447e250ef2a0"
   },
   "outputs": [
    {
     "data": {
      "text/html": [
       "<div>\n",
       "<style scoped>\n",
       "    .dataframe tbody tr th:only-of-type {\n",
       "        vertical-align: middle;\n",
       "    }\n",
       "\n",
       "    .dataframe tbody tr th {\n",
       "        vertical-align: top;\n",
       "    }\n",
       "\n",
       "    .dataframe thead th {\n",
       "        text-align: right;\n",
       "    }\n",
       "</style>\n",
       "<table border=\"1\" class=\"dataframe\">\n",
       "  <thead>\n",
       "    <tr style=\"text-align: right;\">\n",
       "      <th></th>\n",
       "      <th>Ligand SMILES</th>\n",
       "      <th>Act</th>\n",
       "    </tr>\n",
       "  </thead>\n",
       "  <tbody>\n",
       "    <tr>\n",
       "      <th>0</th>\n",
       "      <td>CN1CCN(CC1)C(=O)N[C@@H](Cc1ccccc1)C(=O)N[C@@H]...</td>\n",
       "      <td>0.460000</td>\n",
       "    </tr>\n",
       "    <tr>\n",
       "      <th>1</th>\n",
       "      <td>O=C[C@H](Cc1ccccc1)NC(=O)[C@H](Cc1ccccc1)NC(=O...</td>\n",
       "      <td>1.012000</td>\n",
       "    </tr>\n",
       "    <tr>\n",
       "      <th>2</th>\n",
       "      <td>C[C@H](NC(=O)[C@H](Cc1ccccc1)NC(=O)OCc1ccccc1)...</td>\n",
       "      <td>1.012000</td>\n",
       "    </tr>\n",
       "    <tr>\n",
       "      <th>3</th>\n",
       "      <td>CN1CCN(CC1)C(=O)N[C@@H](Cc1ccccc1)C(=O)N[C@@H]...</td>\n",
       "      <td>1.150000</td>\n",
       "    </tr>\n",
       "    <tr>\n",
       "      <th>4</th>\n",
       "      <td>CC(C)C[C@H](N[C@@H](c1ccc(cc1)-c1ccccc1)C(F)(F...</td>\n",
       "      <td>1.451201</td>\n",
       "    </tr>\n",
       "    <tr>\n",
       "      <th>...</th>\n",
       "      <td>...</td>\n",
       "      <td>...</td>\n",
       "    </tr>\n",
       "    <tr>\n",
       "      <th>1145</th>\n",
       "      <td>Clc1cccc(Nc2nc(nc3n(cnc23)C2CCCC2)C#N)c1</td>\n",
       "      <td>40.000000</td>\n",
       "    </tr>\n",
       "    <tr>\n",
       "      <th>1146</th>\n",
       "      <td>CCC(=NNC(N)=S)c1cccc(Br)c1</td>\n",
       "      <td>40.000000</td>\n",
       "    </tr>\n",
       "    <tr>\n",
       "      <th>1147</th>\n",
       "      <td>COc1cc(C=NNC(=O)c2nc(no2)-c2ccc(Cl)cc2)ccc1O</td>\n",
       "      <td>40.000000</td>\n",
       "    </tr>\n",
       "    <tr>\n",
       "      <th>1148</th>\n",
       "      <td>CC1CN(N=C1c1cccc(c1)C(F)(F)F)C(N)=S</td>\n",
       "      <td>40.000000</td>\n",
       "    </tr>\n",
       "    <tr>\n",
       "      <th>1149</th>\n",
       "      <td>COc1ccc(cc1)-c1csc(N\\N=C(/C)c2ccccn2)n1</td>\n",
       "      <td>40.000000</td>\n",
       "    </tr>\n",
       "  </tbody>\n",
       "</table>\n",
       "<p>1139 rows × 2 columns</p>\n",
       "</div>"
      ],
      "text/plain": [
       "                                          Ligand SMILES        Act\n",
       "0     CN1CCN(CC1)C(=O)N[C@@H](Cc1ccccc1)C(=O)N[C@@H]...   0.460000\n",
       "1     O=C[C@H](Cc1ccccc1)NC(=O)[C@H](Cc1ccccc1)NC(=O...   1.012000\n",
       "2     C[C@H](NC(=O)[C@H](Cc1ccccc1)NC(=O)OCc1ccccc1)...   1.012000\n",
       "3     CN1CCN(CC1)C(=O)N[C@@H](Cc1ccccc1)C(=O)N[C@@H]...   1.150000\n",
       "4     CC(C)C[C@H](N[C@@H](c1ccc(cc1)-c1ccccc1)C(F)(F...   1.451201\n",
       "...                                                 ...        ...\n",
       "1145           Clc1cccc(Nc2nc(nc3n(cnc23)C2CCCC2)C#N)c1  40.000000\n",
       "1146                         CCC(=NNC(N)=S)c1cccc(Br)c1  40.000000\n",
       "1147       COc1cc(C=NNC(=O)c2nc(no2)-c2ccc(Cl)cc2)ccc1O  40.000000\n",
       "1148                CC1CN(N=C1c1cccc(c1)C(F)(F)F)C(N)=S  40.000000\n",
       "1149            COc1ccc(cc1)-c1csc(N\\N=C(/C)c2ccccn2)n1  40.000000\n",
       "\n",
       "[1139 rows x 2 columns]"
      ]
     },
     "execution_count": 39,
     "metadata": {},
     "output_type": "execute_result"
    }
   ],
   "source": [
    "dfbd4"
   ]
  },
  {
   "cell_type": "code",
   "execution_count": 40,
   "metadata": {
    "colab": {
     "base_uri": "https://localhost:8080/"
    },
    "executionInfo": {
     "elapsed": 285,
     "status": "ok",
     "timestamp": 1697242895167,
     "user": {
      "displayName": "Rafael L",
      "userId": "04467047833305667620"
     },
     "user_tz": 180
    },
    "id": "8njk0pTICpvJ",
    "outputId": "727a3b9b-60ad-4a99-975f-aafc07872774"
   },
   "outputs": [
    {
     "data": {
      "text/plain": [
       "0"
      ]
     },
     "execution_count": 40,
     "metadata": {},
     "output_type": "execute_result"
    }
   ],
   "source": [
    "dfbd4[\"Act\"].isna().sum()"
   ]
  },
  {
   "cell_type": "code",
   "execution_count": 41,
   "metadata": {
    "colab": {
     "base_uri": "https://localhost:8080/",
     "height": 423
    },
    "executionInfo": {
     "elapsed": 390,
     "status": "ok",
     "timestamp": 1697242898100,
     "user": {
      "displayName": "Rafael L",
      "userId": "04467047833305667620"
     },
     "user_tz": 180
    },
    "id": "0yBYABAFIqC7",
    "outputId": "55fd5708-7807-4480-ce78-82aefa9c036e"
   },
   "outputs": [
    {
     "data": {
      "text/html": [
       "<div>\n",
       "<style scoped>\n",
       "    .dataframe tbody tr th:only-of-type {\n",
       "        vertical-align: middle;\n",
       "    }\n",
       "\n",
       "    .dataframe tbody tr th {\n",
       "        vertical-align: top;\n",
       "    }\n",
       "\n",
       "    .dataframe thead th {\n",
       "        text-align: right;\n",
       "    }\n",
       "</style>\n",
       "<table border=\"1\" class=\"dataframe\">\n",
       "  <thead>\n",
       "    <tr style=\"text-align: right;\">\n",
       "      <th></th>\n",
       "      <th>Ligand SMILES</th>\n",
       "      <th>Act</th>\n",
       "      <th>pAct</th>\n",
       "    </tr>\n",
       "  </thead>\n",
       "  <tbody>\n",
       "    <tr>\n",
       "      <th>0</th>\n",
       "      <td>CN1CCN(CC1)C(=O)N[C@@H](Cc1ccccc1)C(=O)N[C@@H]...</td>\n",
       "      <td>0.460000</td>\n",
       "      <td>9.34</td>\n",
       "    </tr>\n",
       "    <tr>\n",
       "      <th>1</th>\n",
       "      <td>O=C[C@H](Cc1ccccc1)NC(=O)[C@H](Cc1ccccc1)NC(=O...</td>\n",
       "      <td>1.012000</td>\n",
       "      <td>8.99</td>\n",
       "    </tr>\n",
       "    <tr>\n",
       "      <th>2</th>\n",
       "      <td>C[C@H](NC(=O)[C@H](Cc1ccccc1)NC(=O)OCc1ccccc1)...</td>\n",
       "      <td>1.012000</td>\n",
       "      <td>8.99</td>\n",
       "    </tr>\n",
       "    <tr>\n",
       "      <th>3</th>\n",
       "      <td>CN1CCN(CC1)C(=O)N[C@@H](Cc1ccccc1)C(=O)N[C@@H]...</td>\n",
       "      <td>1.150000</td>\n",
       "      <td>8.94</td>\n",
       "    </tr>\n",
       "    <tr>\n",
       "      <th>4</th>\n",
       "      <td>CC(C)C[C@H](N[C@@H](c1ccc(cc1)-c1ccccc1)C(F)(F...</td>\n",
       "      <td>1.451201</td>\n",
       "      <td>8.84</td>\n",
       "    </tr>\n",
       "    <tr>\n",
       "      <th>...</th>\n",
       "      <td>...</td>\n",
       "      <td>...</td>\n",
       "      <td>...</td>\n",
       "    </tr>\n",
       "    <tr>\n",
       "      <th>1145</th>\n",
       "      <td>Clc1cccc(Nc2nc(nc3n(cnc23)C2CCCC2)C#N)c1</td>\n",
       "      <td>40.000000</td>\n",
       "      <td>7.40</td>\n",
       "    </tr>\n",
       "    <tr>\n",
       "      <th>1146</th>\n",
       "      <td>CCC(=NNC(N)=S)c1cccc(Br)c1</td>\n",
       "      <td>40.000000</td>\n",
       "      <td>7.40</td>\n",
       "    </tr>\n",
       "    <tr>\n",
       "      <th>1147</th>\n",
       "      <td>COc1cc(C=NNC(=O)c2nc(no2)-c2ccc(Cl)cc2)ccc1O</td>\n",
       "      <td>40.000000</td>\n",
       "      <td>7.40</td>\n",
       "    </tr>\n",
       "    <tr>\n",
       "      <th>1148</th>\n",
       "      <td>CC1CN(N=C1c1cccc(c1)C(F)(F)F)C(N)=S</td>\n",
       "      <td>40.000000</td>\n",
       "      <td>7.40</td>\n",
       "    </tr>\n",
       "    <tr>\n",
       "      <th>1149</th>\n",
       "      <td>COc1ccc(cc1)-c1csc(N\\N=C(/C)c2ccccn2)n1</td>\n",
       "      <td>40.000000</td>\n",
       "      <td>7.40</td>\n",
       "    </tr>\n",
       "  </tbody>\n",
       "</table>\n",
       "<p>1139 rows × 3 columns</p>\n",
       "</div>"
      ],
      "text/plain": [
       "                                          Ligand SMILES        Act  pAct\n",
       "0     CN1CCN(CC1)C(=O)N[C@@H](Cc1ccccc1)C(=O)N[C@@H]...   0.460000  9.34\n",
       "1     O=C[C@H](Cc1ccccc1)NC(=O)[C@H](Cc1ccccc1)NC(=O...   1.012000  8.99\n",
       "2     C[C@H](NC(=O)[C@H](Cc1ccccc1)NC(=O)OCc1ccccc1)...   1.012000  8.99\n",
       "3     CN1CCN(CC1)C(=O)N[C@@H](Cc1ccccc1)C(=O)N[C@@H]...   1.150000  8.94\n",
       "4     CC(C)C[C@H](N[C@@H](c1ccc(cc1)-c1ccccc1)C(F)(F...   1.451201  8.84\n",
       "...                                                 ...        ...   ...\n",
       "1145           Clc1cccc(Nc2nc(nc3n(cnc23)C2CCCC2)C#N)c1  40.000000  7.40\n",
       "1146                         CCC(=NNC(N)=S)c1cccc(Br)c1  40.000000  7.40\n",
       "1147       COc1cc(C=NNC(=O)c2nc(no2)-c2ccc(Cl)cc2)ccc1O  40.000000  7.40\n",
       "1148                CC1CN(N=C1c1cccc(c1)C(F)(F)F)C(N)=S  40.000000  7.40\n",
       "1149            COc1ccc(cc1)-c1csc(N\\N=C(/C)c2ccccn2)n1  40.000000  7.40\n",
       "\n",
       "[1139 rows x 3 columns]"
      ]
     },
     "execution_count": 41,
     "metadata": {},
     "output_type": "execute_result"
    }
   ],
   "source": [
    "# Create pAct column\n",
    "dfbd4[\"pAct\"] = dfbd4[\"Act\"].apply(lambda x: round(9 - np.log10(x), 2))\n",
    "dfbd4"
   ]
  },
  {
   "cell_type": "code",
   "execution_count": 42,
   "metadata": {
    "colab": {
     "base_uri": "https://localhost:8080/"
    },
    "executionInfo": {
     "elapsed": 17,
     "status": "ok",
     "timestamp": 1697242903067,
     "user": {
      "displayName": "Rafael L",
      "userId": "04467047833305667620"
     },
     "user_tz": 180
    },
    "id": "r4dXtyGkv8vP",
    "outputId": "f7cf858e-04fc-42cc-919b-1cdf8476c6f9"
   },
   "outputs": [
    {
     "data": {
      "text/plain": [
       "(1135, 3)"
      ]
     },
     "execution_count": 42,
     "metadata": {},
     "output_type": "execute_result"
    }
   ],
   "source": [
    "# Delete activity values outside the usual range\n",
    "dfbd5 = dfbd4[~(dfbd4['pAct'] < 3) & ~(dfbd4['pAct'] > 12)]\n",
    "dfbd5.shape"
   ]
  },
  {
   "cell_type": "code",
   "execution_count": 43,
   "metadata": {
    "colab": {
     "base_uri": "https://localhost:8080/",
     "height": 449
    },
    "executionInfo": {
     "elapsed": 1157,
     "status": "ok",
     "timestamp": 1697242911643,
     "user": {
      "displayName": "Rafael L",
      "userId": "04467047833305667620"
     },
     "user_tz": 180
    },
    "id": "UrscD6kSI1-d",
    "outputId": "f65d28bd-ed03-4b54-fd65-5c0ffe2e2555"
   },
   "outputs": [
    {
     "data": {
      "image/png": "[encoded data removed]",
      "text/plain": [
       "<Figure size 640x480 with 1 Axes>"
      ]
     },
     "metadata": {},
     "output_type": "display_data"
    }
   ],
   "source": [
    "histogram_pAct(dfbd5[\"pAct\"])"
   ]
  },
  {
   "cell_type": "markdown",
   "metadata": {
    "id": "tqrZJ5-Fk1xO"
   },
   "source": [
    "## Standardize SMILES and merge datasets"
   ]
  },
  {
   "cell_type": "code",
   "execution_count": 44,
   "metadata": {
    "executionInfo": {
     "elapsed": 44600,
     "status": "ok",
     "timestamp": 1697242959884,
     "user": {
      "displayName": "Rafael L",
      "userId": "04467047833305667620"
     },
     "user_tz": 180
    },
    "id": "xWIVGObJProa"
   },
   "outputs": [],
   "source": [
    "%%capture\n",
    "df_sub6[\"standard_SMILES\"] = df_sub6[\"Smiles\"].apply(lambda smi: new_standardize_smiles(smi, return_mol=False))"
   ]
  },
  {
   "cell_type": "code",
   "execution_count": 45,
   "metadata": {
    "colab": {
     "base_uri": "https://localhost:8080/"
    },
    "executionInfo": {
     "elapsed": 55,
     "status": "ok",
     "timestamp": 1697242959885,
     "user": {
      "displayName": "Rafael L",
      "userId": "04467047833305667620"
     },
     "user_tz": 180
    },
    "id": "y4eGW9VtJcOc",
    "outputId": "5596c5a8-7feb-434b-85fe-bfd811c64563"
   },
   "outputs": [
    {
     "data": {
      "text/plain": [
       "(1149, 3)"
      ]
     },
     "execution_count": 45,
     "metadata": {},
     "output_type": "execute_result"
    }
   ],
   "source": [
    "df_sub6.shape  # (1149, 3)"
   ]
  },
  {
   "cell_type": "code",
   "execution_count": 46,
   "metadata": {
    "colab": {
     "base_uri": "https://localhost:8080/"
    },
    "executionInfo": {
     "elapsed": 39,
     "status": "ok",
     "timestamp": 1697242959886,
     "user": {
      "displayName": "Rafael L",
      "userId": "04467047833305667620"
     },
     "user_tz": 180
    },
    "id": "JAMeHLUGrJfN",
    "outputId": "a9131bad-6feb-481d-8912-4f603797f113"
   },
   "outputs": [
    {
     "name": "stdout",
     "output_type": "stream",
     "text": [
      "(1149, 3)\n"
     ]
    }
   ],
   "source": [
    "# Drop rows that failed standardization\n",
    "df_sub7 = df_sub6.dropna(subset=\"standard_SMILES\")\n",
    "print(df_sub7.shape)"
   ]
  },
  {
   "cell_type": "code",
   "execution_count": 47,
   "metadata": {
    "executionInfo": {
     "elapsed": 36804,
     "status": "ok",
     "timestamp": 1697242996664,
     "user": {
      "displayName": "Rafael L",
      "userId": "04467047833305667620"
     },
     "user_tz": 180
    },
    "id": "gRfY4I2TlFq1"
   },
   "outputs": [],
   "source": [
    "%%capture\n",
    "dfbd5[\"standard_SMILES\"] = dfbd5[\"Ligand SMILES\"].apply(lambda smi: new_standardize_smiles(smi, return_mol=False))"
   ]
  },
  {
   "cell_type": "code",
   "execution_count": 48,
   "metadata": {
    "colab": {
     "base_uri": "https://localhost:8080/"
    },
    "executionInfo": {
     "elapsed": 23,
     "status": "ok",
     "timestamp": 1697242996665,
     "user": {
      "displayName": "Rafael L",
      "userId": "04467047833305667620"
     },
     "user_tz": 180
    },
    "id": "s-P1ucx5Kl9r",
    "outputId": "22bd7d74-2b04-4476-ca66-a018f7b78984"
   },
   "outputs": [
    {
     "data": {
      "text/plain": [
       "(1135, 4)"
      ]
     },
     "execution_count": 48,
     "metadata": {},
     "output_type": "execute_result"
    }
   ],
   "source": [
    "dfbd5.shape  # (1135, 4)"
   ]
  },
  {
   "cell_type": "code",
   "execution_count": 49,
   "metadata": {
    "colab": {
     "base_uri": "https://localhost:8080/"
    },
    "executionInfo": {
     "elapsed": 279,
     "status": "ok",
     "timestamp": 1697243001528,
     "user": {
      "displayName": "Rafael L",
      "userId": "04467047833305667620"
     },
     "user_tz": 180
    },
    "id": "SFBnQgaZrKIH",
    "outputId": "74e808b8-2415-48d9-c35b-d091d5e67d91"
   },
   "outputs": [
    {
     "name": "stdout",
     "output_type": "stream",
     "text": [
      "(1135, 4)\n"
     ]
    }
   ],
   "source": [
    "# Drop rows that failed standardization\n",
    "dfbd6 = dfbd5.dropna(subset=\"standard_SMILES\")\n",
    "print(dfbd6.shape)"
   ]
  },
  {
   "cell_type": "code",
   "execution_count": 50,
   "metadata": {
    "colab": {
     "base_uri": "https://localhost:8080/"
    },
    "executionInfo": {
     "elapsed": 260,
     "status": "ok",
     "timestamp": 1697243006098,
     "user": {
      "displayName": "Rafael L",
      "userId": "04467047833305667620"
     },
     "user_tz": 180
    },
    "id": "_cSyS3atlNqp",
    "outputId": "d3632cc9-a874-4e67-c9af-080507cda22e"
   },
   "outputs": [
    {
     "data": {
      "text/plain": [
       "(2284, 2)"
      ]
     },
     "execution_count": 50,
     "metadata": {},
     "output_type": "execute_result"
    }
   ],
   "source": [
    "# Merge datasets\n",
    "df_sub8 = df_sub7[[\"standard_SMILES\", \"pAct\"]].copy()\n",
    "dfbd7 = dfbd6[[\"standard_SMILES\", \"pAct\"]].copy()\n",
    "\n",
    "df_merge = pd.concat([df_sub8, dfbd7]).reset_index(drop=True)\n",
    "df_merge.shape"
   ]
  },
  {
   "cell_type": "code",
   "execution_count": 51,
   "metadata": {
    "colab": {
     "base_uri": "https://localhost:8080/"
    },
    "executionInfo": {
     "elapsed": 639,
     "status": "ok",
     "timestamp": 1697243008958,
     "user": {
      "displayName": "Rafael L",
      "userId": "04467047833305667620"
     },
     "user_tz": 180
    },
    "id": "9z_oHUL_yjSu",
    "outputId": "1c8fe737-7170-4204-f8a2-70c9d2b7f268"
   },
   "outputs": [
    {
     "data": {
      "text/plain": [
       "(2280, 3)"
      ]
     },
     "execution_count": 51,
     "metadata": {},
     "output_type": "execute_result"
    }
   ],
   "source": [
    "# Remove structures with \"non-organic\" atoms\n",
    "df_merge[\"not_org\"] = df_merge[\"standard_SMILES\"].apply(non_organic)\n",
    "df_org = df_merge[df_merge[\"not_org\"] == False].copy()\n",
    "df_org.reset_index(drop=True, inplace=True)\n",
    "df_org.shape"
   ]
  },
  {
   "cell_type": "code",
   "execution_count": 52,
   "metadata": {
    "colab": {
     "base_uri": "https://localhost:8080/",
     "height": 174
    },
    "executionInfo": {
     "elapsed": 283,
     "status": "ok",
     "timestamp": 1697243012423,
     "user": {
      "displayName": "Rafael L",
      "userId": "04467047833305667620"
     },
     "user_tz": 180
    },
    "id": "JnXal17GM4iE",
    "outputId": "47300357-8e4f-45aa-a3d8-eccd3cc2b1f1"
   },
   "outputs": [
    {
     "data": {
      "text/html": [
       "<div>\n",
       "<style scoped>\n",
       "    .dataframe tbody tr th:only-of-type {\n",
       "        vertical-align: middle;\n",
       "    }\n",
       "\n",
       "    .dataframe tbody tr th {\n",
       "        vertical-align: top;\n",
       "    }\n",
       "\n",
       "    .dataframe thead th {\n",
       "        text-align: right;\n",
       "    }\n",
       "</style>\n",
       "<table border=\"1\" class=\"dataframe\">\n",
       "  <thead>\n",
       "    <tr style=\"text-align: right;\">\n",
       "      <th></th>\n",
       "      <th>standard_SMILES</th>\n",
       "      <th>pAct</th>\n",
       "      <th>not_org</th>\n",
       "    </tr>\n",
       "  </thead>\n",
       "  <tbody>\n",
       "    <tr>\n",
       "      <th>876</th>\n",
       "      <td>CCCC/C(=N/NC(N)=[Se])c1ccc(Cl)c(Cl)c1</td>\n",
       "      <td>7.83</td>\n",
       "      <td>True</td>\n",
       "    </tr>\n",
       "    <tr>\n",
       "      <th>897</th>\n",
       "      <td>CCCC/C(=N/NC(N)=[Se])c1ccc(Cl)c(Cl)c1</td>\n",
       "      <td>8.07</td>\n",
       "      <td>True</td>\n",
       "    </tr>\n",
       "    <tr>\n",
       "      <th>945</th>\n",
       "      <td>NC(=[Se])NN=C(c1cccc(Br)c1)c1cccc(Br)c1</td>\n",
       "      <td>7.51</td>\n",
       "      <td>True</td>\n",
       "    </tr>\n",
       "    <tr>\n",
       "      <th>1088</th>\n",
       "      <td>C/C(=N\\NC(N)=[Se])c1cccc(Br)c1</td>\n",
       "      <td>7.17</td>\n",
       "      <td>True</td>\n",
       "    </tr>\n",
       "  </tbody>\n",
       "</table>\n",
       "</div>"
      ],
      "text/plain": [
       "                              standard_SMILES  pAct  not_org\n",
       "876     CCCC/C(=N/NC(N)=[Se])c1ccc(Cl)c(Cl)c1  7.83     True\n",
       "897     CCCC/C(=N/NC(N)=[Se])c1ccc(Cl)c(Cl)c1  8.07     True\n",
       "945   NC(=[Se])NN=C(c1cccc(Br)c1)c1cccc(Br)c1  7.51     True\n",
       "1088           C/C(=N\\NC(N)=[Se])c1cccc(Br)c1  7.17     True"
      ]
     },
     "execution_count": 52,
     "metadata": {},
     "output_type": "execute_result"
    }
   ],
   "source": [
    "df_merge[df_merge[\"not_org\"]]"
   ]
  },
  {
   "cell_type": "code",
   "execution_count": 53,
   "metadata": {
    "id": "wfMDwDGOxouF"
   },
   "outputs": [],
   "source": [
    "# Check SMILES\n",
    "# Neq0500 = new_standardize_smiles(\"N#CCNC(=O)C(Cc1ccccc1)NC(=O)OCc1ccccc1\", return_mol=False) # Neq0500\n",
    "# Neq0869 = new_standardize_smiles(\"CC(C)CC(NC(=O)OC(C)(C)C)C(=O)NC1(C#N)CC1\", return_mol=False) # Neq0869\n",
    "\n",
    "# Neq631 = \"N#CC1(NC(=O)C(Cc2ccccc2)NC(c2ccccc2)C(F)(F)F)CC1\"\n",
    "# Neq809 = \"N#CC1(NC(=O)C(Cc2ccccc2)NC(c2ccc(Br)cc2)C(F)(F)F)CC1\"\n",
    "\n",
    "# df_merge[df_merge[\"standard_SMILES\"] == Neq631]"
   ]
  },
  {
   "cell_type": "code",
   "execution_count": 54,
   "metadata": {
    "executionInfo": {
     "elapsed": 7492,
     "status": "ok",
     "timestamp": 1697243035002,
     "user": {
      "displayName": "Rafael L",
      "userId": "04467047833305667620"
     },
     "user_tz": 180
    },
    "id": "M9HlCNndlPBn"
   },
   "outputs": [],
   "source": [
    "# Calculate fingerprints as strings\n",
    "from rdkit.Chem import rdFingerprintGenerator\n",
    "\n",
    "mfpgen = rdFingerprintGenerator.GetMorganGenerator(radius=3, fpSize=1024)\n",
    "\n",
    "df_org[\"FP\"] = df_org[\"standard_SMILES\"].apply(lambda smi: \"\".join(mfpgen.GetFingerprintAsNumPy(Chem.MolFromSmiles(smi)).astype(str)))\n",
    "\n"
   ]
  },
  {
   "cell_type": "code",
   "execution_count": 55,
   "metadata": {
    "colab": {
     "base_uri": "https://localhost:8080/"
    },
    "executionInfo": {
     "elapsed": 24,
     "status": "ok",
     "timestamp": 1697243036107,
     "user": {
      "displayName": "Rafael L",
      "userId": "04467047833305667620"
     },
     "user_tz": 180
    },
    "id": "15BPAO2WlQ3e",
    "outputId": "dbd4af7c-65d1-46c7-9f54-7338944d14cb"
   },
   "outputs": [
    {
     "data": {
      "text/plain": [
       "(860, 4)"
      ]
     },
     "execution_count": 55,
     "metadata": {},
     "output_type": "execute_result"
    }
   ],
   "source": [
    "# Remove duplicates, keeping the most potent instance\n",
    "df_undup = df_org.sort_values(\"pAct\", ascending=False).drop_duplicates(subset=\"FP\").copy()\n",
    "df_undup.shape  # was (860, 4)"
   ]
  },
  {
   "cell_type": "code",
   "execution_count": 56,
   "metadata": {
    "executionInfo": {
     "elapsed": 267,
     "status": "ok",
     "timestamp": 1697243039708,
     "user": {
      "displayName": "Rafael L",
      "userId": "04467047833305667620"
     },
     "user_tz": 180
    },
    "id": "YAholaOpxPUY"
   },
   "outputs": [],
   "source": [
    "# Remove MW < 200 and MW > 1000 compounds\n",
    "from rdkit.Chem import Descriptors\n",
    "df_undup[\"MW\"] = df_undup[\"standard_SMILES\"].apply(lambda smi: Descriptors.MolWt(Chem.MolFromSmiles(smi)))\n",
    "df_final = df_undup[~(df_undup['MW'] < 200) & ~(df_undup['MW'] > 1000)].copy()"
   ]
  },
  {
   "cell_type": "code",
   "execution_count": 57,
   "metadata": {
    "colab": {
     "base_uri": "https://localhost:8080/"
    },
    "executionInfo": {
     "elapsed": 288,
     "status": "ok",
     "timestamp": 1697243052558,
     "user": {
      "displayName": "Rafael L",
      "userId": "04467047833305667620"
     },
     "user_tz": 180
    },
    "id": "Hbo7RGGGkaK3",
    "outputId": "e2c9afd9-42b2-46c8-ebe2-be61e0546aca"
   },
   "outputs": [
    {
     "data": {
      "text/plain": [
       "(857, 5)"
      ]
     },
     "execution_count": 57,
     "metadata": {},
     "output_type": "execute_result"
    }
   ],
   "source": [
    "df_final.shape  # was (857, 5)"
   ]
  },
  {
   "cell_type": "code",
   "execution_count": 58,
   "metadata": {
    "colab": {
     "base_uri": "https://localhost:8080/",
     "height": 226
    },
    "executionInfo": {
     "elapsed": 294,
     "status": "ok",
     "timestamp": 1697243042234,
     "user": {
      "displayName": "Rafael L",
      "userId": "04467047833305667620"
     },
     "user_tz": 180
    },
    "id": "xRl_LSvQR2jj",
    "outputId": "2908bada-eb7e-41cf-bcf7-4a649cf0f946"
   },
   "outputs": [
    {
     "data": {
      "text/html": [
       "<div>\n",
       "<style scoped>\n",
       "    .dataframe tbody tr th:only-of-type {\n",
       "        vertical-align: middle;\n",
       "    }\n",
       "\n",
       "    .dataframe tbody tr th {\n",
       "        vertical-align: top;\n",
       "    }\n",
       "\n",
       "    .dataframe thead th {\n",
       "        text-align: right;\n",
       "    }\n",
       "</style>\n",
       "<table border=\"1\" class=\"dataframe\">\n",
       "  <thead>\n",
       "    <tr style=\"text-align: right;\">\n",
       "      <th></th>\n",
       "      <th>standard_SMILES</th>\n",
       "      <th>pAct</th>\n",
       "      <th>not_org</th>\n",
       "      <th>FP</th>\n",
       "      <th>MW</th>\n",
       "    </tr>\n",
       "  </thead>\n",
       "  <tbody>\n",
       "    <tr>\n",
       "      <th>2162</th>\n",
       "      <td>COC1=CC(=O)N(C(=O)/C=C/[C@H](C)NC(=O)C(CC(C)C)...</td>\n",
       "      <td>10.09</td>\n",
       "      <td>False</td>\n",
       "      <td>0110100000001000000010000000110101100100000000...</td>\n",
       "      <td>732.967</td>\n",
       "    </tr>\n",
       "    <tr>\n",
       "      <th>2163</th>\n",
       "      <td>COC1=CC(=O)N(C(=O)/C=C/[C@H](C)NC(=O)C(CC(C)C)...</td>\n",
       "      <td>10.07</td>\n",
       "      <td>False</td>\n",
       "      <td>0110100000001000000010000000110101100100000000...</td>\n",
       "      <td>730.951</td>\n",
       "    </tr>\n",
       "    <tr>\n",
       "      <th>678</th>\n",
       "      <td>COC1=CC(=O)N(C(=O)/C=C/[C@H](CCc2ccccc2)NC(=O)...</td>\n",
       "      <td>10.05</td>\n",
       "      <td>False</td>\n",
       "      <td>0100100000001000000011000000010111100000001000...</td>\n",
       "      <td>783.027</td>\n",
       "    </tr>\n",
       "    <tr>\n",
       "      <th>2165</th>\n",
       "      <td>CS(=O)(=O)c1ccc(-c2ccc([C@H](NC(CC(Cl)Cl)C(=O)...</td>\n",
       "      <td>10.00</td>\n",
       "      <td>False</td>\n",
       "      <td>0100000000100000000000000010000011000010001000...</td>\n",
       "      <td>612.501</td>\n",
       "    </tr>\n",
       "    <tr>\n",
       "      <th>734</th>\n",
       "      <td>COC1=CC(=O)N(C(=O)/C=C/[C@@H](CCc2ccccc2)NC(=O...</td>\n",
       "      <td>9.96</td>\n",
       "      <td>False</td>\n",
       "      <td>0100100000001000000011000000010111100000001000...</td>\n",
       "      <td>845.098</td>\n",
       "    </tr>\n",
       "  </tbody>\n",
       "</table>\n",
       "</div>"
      ],
      "text/plain": [
       "                                        standard_SMILES   pAct  not_org  \\\n",
       "2162  COC1=CC(=O)N(C(=O)/C=C/[C@H](C)NC(=O)C(CC(C)C)...  10.09    False   \n",
       "2163  COC1=CC(=O)N(C(=O)/C=C/[C@H](C)NC(=O)C(CC(C)C)...  10.07    False   \n",
       "678   COC1=CC(=O)N(C(=O)/C=C/[C@H](CCc2ccccc2)NC(=O)...  10.05    False   \n",
       "2165  CS(=O)(=O)c1ccc(-c2ccc([C@H](NC(CC(Cl)Cl)C(=O)...  10.00    False   \n",
       "734   COC1=CC(=O)N(C(=O)/C=C/[C@@H](CCc2ccccc2)NC(=O...   9.96    False   \n",
       "\n",
       "                                                     FP       MW  \n",
       "2162  0110100000001000000010000000110101100100000000...  732.967  \n",
       "2163  0110100000001000000010000000110101100100000000...  730.951  \n",
       "678   0100100000001000000011000000010111100000001000...  783.027  \n",
       "2165  0100000000100000000000000010000011000010001000...  612.501  \n",
       "734   0100100000001000000011000000010111100000001000...  845.098  "
      ]
     },
     "execution_count": 58,
     "metadata": {},
     "output_type": "execute_result"
    }
   ],
   "source": [
    "df_final.head()"
   ]
  },
  {
   "cell_type": "markdown",
   "metadata": {
    "id": "guT5iMY2Sdic"
   },
   "source": [
    "# Describe datasets and export"
   ]
  },
  {
   "cell_type": "code",
   "execution_count": 59,
   "metadata": {
    "colab": {
     "base_uri": "https://localhost:8080/"
    },
    "executionInfo": {
     "elapsed": 259,
     "status": "ok",
     "timestamp": 1697243077378,
     "user": {
      "displayName": "Rafael L",
      "userId": "04467047833305667620"
     },
     "user_tz": 180
    },
    "id": "NNXZPK8JSgCF",
    "outputId": "39cec9a0-319b-4f78-f9cd-4e4cea6e48cf"
   },
   "outputs": [
    {
     "data": {
      "text/plain": [
       "(857, 5)"
      ]
     },
     "execution_count": 59,
     "metadata": {},
     "output_type": "execute_result"
    }
   ],
   "source": [
    "# Number of compounds\n",
    "df_final.shape"
   ]
  },
  {
   "cell_type": "code",
   "execution_count": 60,
   "metadata": {
    "colab": {
     "base_uri": "https://localhost:8080/",
     "height": 449
    },
    "executionInfo": {
     "elapsed": 440,
     "status": "ok",
     "timestamp": 1697243079073,
     "user": {
      "displayName": "Rafael L",
      "userId": "04467047833305667620"
     },
     "user_tz": 180
    },
    "id": "Bj1ULOH7Q7jK",
    "outputId": "c23d2f74-8715-4727-d4d3-34941d21770c"
   },
   "outputs": [
    {
     "data": {
      "image/png": "[encoded data removed]",
      "text/plain": [
       "<Figure size 640x480 with 1 Axes>"
      ]
     },
     "metadata": {},
     "output_type": "display_data"
    }
   ],
   "source": [
    "# Plot histogram with average and median activity and SD\n",
    "histogram_pAct(df_final[\"pAct\"])"
   ]
  },
  {
   "cell_type": "code",
   "execution_count": 61,
   "metadata": {
    "colab": {
     "base_uri": "https://localhost:8080/"
    },
    "executionInfo": {
     "elapsed": 270,
     "status": "ok",
     "timestamp": 1697243087798,
     "user": {
      "displayName": "Rafael L",
      "userId": "04467047833305667620"
     },
     "user_tz": 180
    },
    "id": "oKXO0D_kuGaK",
    "outputId": "f3bcb7aa-52f2-4c69-da0d-52b1b423f66f"
   },
   "outputs": [
    {
     "name": "stdout",
     "output_type": "stream",
     "text": [
      "Actives: 343\n",
      "Inactives: 514\n"
     ]
    }
   ],
   "source": [
    "# Final count actives/inactives\n",
    "df_final[\"Active\"] = df_final[\"pAct\"] >= 6.0\n",
    "df_final[\"Active\"] = df_final[\"Active\"].astype(int)\n",
    "\n",
    "print(\"Actives:\", df_final[\"Active\"].sum())\n",
    "print(\"Inactives:\", len(df_final[\"Active\"]) - df_final[\"Active\"].sum())\n"
   ]
  },
  {
   "cell_type": "code",
   "execution_count": 62,
   "metadata": {
    "executionInfo": {
     "elapsed": 674,
     "status": "ok",
     "timestamp": 1697243103854,
     "user": {
      "displayName": "Rafael L",
      "userId": "04467047833305667620"
     },
     "user_tz": 180
    },
    "id": "LEXyu8FMsucF"
   },
   "outputs": [],
   "source": [
    "# Export classification dataset as .csv\n",
    "df_csv = df_final[[\"standard_SMILES\", \"Active\"]]\n",
    "path_csv = f\"{enz}_final.csv\"\n",
    "\n",
    "df_csv.to_csv(path_csv, sep=\";\", index=False)"
   ]
  },
  {
   "cell_type": "code",
   "execution_count": 66,
   "metadata": {
    "scrolled": true
   },
   "outputs": [
    {
     "data": {
      "text/html": [
       "<div>\n",
       "<style scoped>\n",
       "    .dataframe tbody tr th:only-of-type {\n",
       "        vertical-align: middle;\n",
       "    }\n",
       "\n",
       "    .dataframe tbody tr th {\n",
       "        vertical-align: top;\n",
       "    }\n",
       "\n",
       "    .dataframe thead th {\n",
       "        text-align: right;\n",
       "    }\n",
       "</style>\n",
       "<table border=\"1\" class=\"dataframe\">\n",
       "  <thead>\n",
       "    <tr style=\"text-align: right;\">\n",
       "      <th></th>\n",
       "      <th>standard_SMILES</th>\n",
       "      <th>Active</th>\n",
       "    </tr>\n",
       "  </thead>\n",
       "  <tbody>\n",
       "    <tr>\n",
       "      <th>0</th>\n",
       "      <td>COC1=CC(=O)N(C(=O)C=CC(C)NC(=O)C(CC(C)C)NC(=O)...</td>\n",
       "      <td>1</td>\n",
       "    </tr>\n",
       "    <tr>\n",
       "      <th>1</th>\n",
       "      <td>COC1=CC(=O)N(C(=O)C=CC(C)NC(=O)C(CC(C)C)NC(=O)...</td>\n",
       "      <td>1</td>\n",
       "    </tr>\n",
       "    <tr>\n",
       "      <th>2</th>\n",
       "      <td>COC1=CC(=O)N(C(=O)C=CC(CCc2ccccc2)NC(=O)C(CC(C...</td>\n",
       "      <td>1</td>\n",
       "    </tr>\n",
       "    <tr>\n",
       "      <th>3</th>\n",
       "      <td>CS(=O)(=O)c1ccc(-c2ccc(C(NC(CC(Cl)Cl)C(=O)NC(C...</td>\n",
       "      <td>1</td>\n",
       "    </tr>\n",
       "    <tr>\n",
       "      <th>4</th>\n",
       "      <td>COC1=CC(=O)N(C(=O)C=CC(CCc2ccccc2)NC(=O)C(CC(C...</td>\n",
       "      <td>1</td>\n",
       "    </tr>\n",
       "  </tbody>\n",
       "</table>\n",
       "</div>"
      ],
      "text/plain": [
       "                                     standard_SMILES  Active\n",
       "0  COC1=CC(=O)N(C(=O)C=CC(C)NC(=O)C(CC(C)C)NC(=O)...       1\n",
       "1  COC1=CC(=O)N(C(=O)C=CC(C)NC(=O)C(CC(C)C)NC(=O)...       1\n",
       "2  COC1=CC(=O)N(C(=O)C=CC(CCc2ccccc2)NC(=O)C(CC(C...       1\n",
       "3  CS(=O)(=O)c1ccc(-c2ccc(C(NC(CC(Cl)Cl)C(=O)NC(C...       1\n",
       "4  COC1=CC(=O)N(C(=O)C=CC(CCc2ccccc2)NC(=O)C(CC(C...       1"
      ]
     },
     "execution_count": 66,
     "metadata": {},
     "output_type": "execute_result"
    }
   ],
   "source": [
    "# Compare to original\n",
    "df_final_orig = pd.read_csv(\"cruz_final_original.csv\", sep=\";\")\n",
    "df_final_orig.head()"
   ]
  },
  {
   "cell_type": "code",
   "execution_count": 67,
   "metadata": {},
   "outputs": [
    {
     "data": {
      "text/plain": [
       "0"
      ]
     },
     "execution_count": 67,
     "metadata": {},
     "output_type": "execute_result"
    }
   ],
   "source": [
    "df_final_orig.standard_SMILES.isna().sum()"
   ]
  },
  {
   "cell_type": "code",
   "execution_count": 64,
   "metadata": {
    "collapsed": true,
    "jupyter": {
     "outputs_hidden": true
    },
    "scrolled": true
   },
   "outputs": [
    {
     "data": {
      "text/html": [
       "<div>\n",
       "<style scoped>\n",
       "    .dataframe tbody tr th:only-of-type {\n",
       "        vertical-align: middle;\n",
       "    }\n",
       "\n",
       "    .dataframe tbody tr th {\n",
       "        vertical-align: top;\n",
       "    }\n",
       "\n",
       "    .dataframe thead th {\n",
       "        text-align: right;\n",
       "    }\n",
       "</style>\n",
       "<table border=\"1\" class=\"dataframe\">\n",
       "  <thead>\n",
       "    <tr style=\"text-align: right;\">\n",
       "      <th></th>\n",
       "      <th>standard_SMILES</th>\n",
       "      <th>pAct</th>\n",
       "      <th>not_org</th>\n",
       "      <th>FP</th>\n",
       "      <th>MW</th>\n",
       "      <th>Active</th>\n",
       "    </tr>\n",
       "  </thead>\n",
       "  <tbody>\n",
       "    <tr>\n",
       "      <th>2162</th>\n",
       "      <td>COC1=CC(=O)N(C(=O)/C=C/[C@H](C)NC(=O)C(CC(C)C)...</td>\n",
       "      <td>10.09</td>\n",
       "      <td>False</td>\n",
       "      <td>0110100000001000000010000000110101100100000000...</td>\n",
       "      <td>732.967</td>\n",
       "      <td>1</td>\n",
       "    </tr>\n",
       "    <tr>\n",
       "      <th>2163</th>\n",
       "      <td>COC1=CC(=O)N(C(=O)/C=C/[C@H](C)NC(=O)C(CC(C)C)...</td>\n",
       "      <td>10.07</td>\n",
       "      <td>False</td>\n",
       "      <td>0110100000001000000010000000110101100100000000...</td>\n",
       "      <td>730.951</td>\n",
       "      <td>1</td>\n",
       "    </tr>\n",
       "    <tr>\n",
       "      <th>678</th>\n",
       "      <td>COC1=CC(=O)N(C(=O)/C=C/[C@H](CCc2ccccc2)NC(=O)...</td>\n",
       "      <td>10.05</td>\n",
       "      <td>False</td>\n",
       "      <td>0100100000001000000011000000010111100000001000...</td>\n",
       "      <td>783.027</td>\n",
       "      <td>1</td>\n",
       "    </tr>\n",
       "    <tr>\n",
       "      <th>2165</th>\n",
       "      <td>CS(=O)(=O)c1ccc(-c2ccc([C@H](NC(CC(Cl)Cl)C(=O)...</td>\n",
       "      <td>10.00</td>\n",
       "      <td>False</td>\n",
       "      <td>0100000000100000000000000010000011000010001000...</td>\n",
       "      <td>612.501</td>\n",
       "      <td>1</td>\n",
       "    </tr>\n",
       "    <tr>\n",
       "      <th>734</th>\n",
       "      <td>COC1=CC(=O)N(C(=O)/C=C/[C@@H](CCc2ccccc2)NC(=O...</td>\n",
       "      <td>9.96</td>\n",
       "      <td>False</td>\n",
       "      <td>0100100000001000000011000000010111100000001000...</td>\n",
       "      <td>845.098</td>\n",
       "      <td>1</td>\n",
       "    </tr>\n",
       "    <tr>\n",
       "      <th>...</th>\n",
       "      <td>...</td>\n",
       "      <td>...</td>\n",
       "      <td>...</td>\n",
       "      <td>...</td>\n",
       "      <td>...</td>\n",
       "      <td>...</td>\n",
       "    </tr>\n",
       "    <tr>\n",
       "      <th>613</th>\n",
       "      <td>COc1ccc(C(=O)N/N=C/c2ccoc2)c(OC)c1</td>\n",
       "      <td>3.78</td>\n",
       "      <td>False</td>\n",
       "      <td>0000000000000100000000000000000001000000000000...</td>\n",
       "      <td>274.276</td>\n",
       "      <td>0</td>\n",
       "    </tr>\n",
       "    <tr>\n",
       "      <th>2154</th>\n",
       "      <td>CN1CCN(C(=O)NC(Cc2ccccc2)C(=O)N[C@@H]2Cc3ccccc...</td>\n",
       "      <td>3.64</td>\n",
       "      <td>False</td>\n",
       "      <td>0100000000000010000000100000000011000000001010...</td>\n",
       "      <td>436.556</td>\n",
       "      <td>0</td>\n",
       "    </tr>\n",
       "    <tr>\n",
       "      <th>1111</th>\n",
       "      <td>CCOC(=O)/C=C/C1(NC(=O)C(Cc2ccccc2)NC(=O)OCc2cc...</td>\n",
       "      <td>3.54</td>\n",
       "      <td>False</td>\n",
       "      <td>0100000000000000000000000000000111001001011000...</td>\n",
       "      <td>436.508</td>\n",
       "      <td>0</td>\n",
       "    </tr>\n",
       "    <tr>\n",
       "      <th>1110</th>\n",
       "      <td>CCN(CC)C(=O)/C=C/C1(NC(=O)C(Cc2ccccc2)NC(=O)OC...</td>\n",
       "      <td>3.34</td>\n",
       "      <td>False</td>\n",
       "      <td>0100000000000000000000000000000111001000011000...</td>\n",
       "      <td>463.578</td>\n",
       "      <td>0</td>\n",
       "    </tr>\n",
       "    <tr>\n",
       "      <th>2160</th>\n",
       "      <td>CNC(=O)/C=C/C1(NC(=O)C(Cc2ccccc2)NC(=O)OCc2ccc...</td>\n",
       "      <td>3.04</td>\n",
       "      <td>False</td>\n",
       "      <td>0100000000000000001000000000000111001000011000...</td>\n",
       "      <td>421.497</td>\n",
       "      <td>0</td>\n",
       "    </tr>\n",
       "  </tbody>\n",
       "</table>\n",
       "<p>297 rows × 6 columns</p>\n",
       "</div>"
      ],
      "text/plain": [
       "                                        standard_SMILES   pAct  not_org  \\\n",
       "2162  COC1=CC(=O)N(C(=O)/C=C/[C@H](C)NC(=O)C(CC(C)C)...  10.09    False   \n",
       "2163  COC1=CC(=O)N(C(=O)/C=C/[C@H](C)NC(=O)C(CC(C)C)...  10.07    False   \n",
       "678   COC1=CC(=O)N(C(=O)/C=C/[C@H](CCc2ccccc2)NC(=O)...  10.05    False   \n",
       "2165  CS(=O)(=O)c1ccc(-c2ccc([C@H](NC(CC(Cl)Cl)C(=O)...  10.00    False   \n",
       "734   COC1=CC(=O)N(C(=O)/C=C/[C@@H](CCc2ccccc2)NC(=O...   9.96    False   \n",
       "...                                                 ...    ...      ...   \n",
       "613                  COc1ccc(C(=O)N/N=C/c2ccoc2)c(OC)c1   3.78    False   \n",
       "2154  CN1CCN(C(=O)NC(Cc2ccccc2)C(=O)N[C@@H]2Cc3ccccc...   3.64    False   \n",
       "1111  CCOC(=O)/C=C/C1(NC(=O)C(Cc2ccccc2)NC(=O)OCc2cc...   3.54    False   \n",
       "1110  CCN(CC)C(=O)/C=C/C1(NC(=O)C(Cc2ccccc2)NC(=O)OC...   3.34    False   \n",
       "2160  CNC(=O)/C=C/C1(NC(=O)C(Cc2ccccc2)NC(=O)OCc2ccc...   3.04    False   \n",
       "\n",
       "                                                     FP       MW  Active  \n",
       "2162  0110100000001000000010000000110101100100000000...  732.967       1  \n",
       "2163  0110100000001000000010000000110101100100000000...  730.951       1  \n",
       "678   0100100000001000000011000000010111100000001000...  783.027       1  \n",
       "2165  0100000000100000000000000010000011000010001000...  612.501       1  \n",
       "734   0100100000001000000011000000010111100000001000...  845.098       1  \n",
       "...                                                 ...      ...     ...  \n",
       "613   0000000000000100000000000000000001000000000000...  274.276       0  \n",
       "2154  0100000000000010000000100000000011000000001010...  436.556       0  \n",
       "1111  0100000000000000000000000000000111001001011000...  436.508       0  \n",
       "1110  0100000000000000000000000000000111001000011000...  463.578       0  \n",
       "2160  0100000000000000001000000000000111001000011000...  421.497       0  \n",
       "\n",
       "[297 rows x 6 columns]"
      ]
     },
     "execution_count": 64,
     "metadata": {},
     "output_type": "execute_result"
    }
   ],
   "source": [
    "# Find values in df_final[\"standard_SMILES\"] that are not in df_final_original[\"standard_SMILES\"]\n",
    "new_smiles = df_final[~df_final[\"standard_SMILES\"].isin(df_final_orig[\"standard_SMILES\"])]\n",
    "new_smiles"
   ]
  },
  {
   "cell_type": "markdown",
   "metadata": {},
   "source": [
    "# MODI"
   ]
  },
  {
   "cell_type": "code",
   "execution_count": 6,
   "metadata": {},
   "outputs": [],
   "source": [
    "df_final = pd.read_csv(\"cruz_final.csv\", sep=\";\")"
   ]
  },
  {
   "cell_type": "code",
   "execution_count": 8,
   "metadata": {},
   "outputs": [],
   "source": [
    "# Calculate fingerprints as strings\n",
    "from rdkit.Chem import rdFingerprintGenerator\n",
    "\n",
    "mfpgen = rdFingerprintGenerator.GetMorganGenerator(radius=3, fpSize=1024)\n",
    "\n",
    "df_final[\"FP\"] = df_final[\"standard_SMILES\"].apply(lambda smi: \"\".join(mfpgen.GetFingerprintAsNumPy(Chem.MolFromSmiles(smi)).astype(str)))\n"
   ]
  },
  {
   "cell_type": "code",
   "execution_count": 9,
   "metadata": {
    "colab": {
     "base_uri": "https://localhost:8080/"
    },
    "executionInfo": {
     "elapsed": 276,
     "status": "ok",
     "timestamp": 1697243093258,
     "user": {
      "displayName": "Rafael L",
      "userId": "04467047833305667620"
     },
     "user_tz": 180
    },
    "id": "GzRdhqAsQFNp",
    "outputId": "2635d121-873f-46f9-a9aa-40423a6af0c8"
   },
   "outputs": [
    {
     "data": {
      "text/plain": [
       "(863, 1024)"
      ]
     },
     "execution_count": 9,
     "metadata": {},
     "output_type": "execute_result"
    }
   ],
   "source": [
    "# Create 2D array of fingerprints as lists to use MODI\n",
    "fp_array = np.vstack([list(st) for st in df_final[\"FP\"]])\n",
    "fp_array.shape"
   ]
  },
  {
   "cell_type": "code",
   "execution_count": 11,
   "metadata": {
    "colab": {
     "base_uri": "https://localhost:8080/"
    },
    "executionInfo": {
     "elapsed": 3051,
     "status": "ok",
     "timestamp": 1697243098011,
     "user": {
      "displayName": "Rafael L",
      "userId": "04467047833305667620"
     },
     "user_tz": 180
    },
    "id": "rDaM07q3SgWo",
    "outputId": "c4e6f464-0f31-4931-ba9b-3b0a90c651ac"
   },
   "outputs": [
    {
     "data": {
      "text/plain": [
       "0.8123036415066915"
      ]
     },
     "execution_count": 11,
     "metadata": {},
     "output_type": "execute_result"
    }
   ],
   "source": [
    "# MODI\n",
    "# See: https://github.com/molecularmodelinglab/MODI\n",
    "import modi\n",
    "\n",
    "modi_value = modi.modi(fp_array, np.array(df_final[\"Active\"]))\n",
    "modi_value"
   ]
  },
  {
   "cell_type": "markdown",
   "metadata": {
    "id": "vWqkDl7Zr3AM"
   },
   "source": [
    "# Applicability domain\n",
    "\n",
    "According to [Efficiency of different measures for defining the applicability domain of classification models], predict_proba (confidence estimation) tends to be a better AD than using nearest neighbors (novelty detection).\n"
   ]
  },
  {
   "cell_type": "code",
   "execution_count": null,
   "metadata": {
    "id": "R9Q-j9m9BYzW"
   },
   "outputs": [],
   "source": []
  }
 ],
 "metadata": {
  "colab": {
   "authorship_tag": "ABX9TyMFTgC35bVgVADvYTs25+G1",
   "mount_file_id": "1qKJgreEs7BvOFGqsoD9eyroxQSKJ_kIb",
   "provenance": [],
   "toc_visible": true
  },
  "kernelspec": {
   "display_name": "Python 3 (ipykernel)",
   "language": "python",
   "name": "python3"
  },
  "language_info": {
   "codemirror_mode": {
    "name": "ipython",
    "version": 3
   },
   "file_extension": ".py",
   "mimetype": "text/x-python",
   "name": "python",
   "nbconvert_exporter": "python",
   "pygments_lexer": "ipython3",
   "version": "3.10.6"
  }
 },
 "nbformat": 4,
 "nbformat_minor": 4
}
